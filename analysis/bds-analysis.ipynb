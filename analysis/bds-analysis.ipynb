{
 "cells": [
  {
   "cell_type": "code",
   "execution_count": 1,
   "metadata": {},
   "outputs": [],
   "source": [
    "import os\n",
    "import json\n",
    "import pandas as pd\n",
    "import matplotlib.pyplot as plt\n",
    "from matplotlib import cm\n",
    "import numpy as np\n",
    "from datetime import datetime as dt"
   ]
  },
  {
   "cell_type": "markdown",
   "metadata": {},
   "source": [
    "# Load Data"
   ]
  },
  {
   "cell_type": "code",
   "execution_count": 2,
   "metadata": {},
   "outputs": [],
   "source": [
    "wd = os.path.dirname('__file__')\n",
    "\n",
    "name1 = \"results_Roberta_noother.csv\"\n",
    "name2 = \"results_BertAlbert_noother.csv\"\n",
    "\n",
    "results1 = pd.read_csv(os.path.join(wd,name1))\n",
    "results2 = pd.read_csv(os.path.join(wd,name2))\n",
    "\n",
    "\n",
    "results = pd.concat([results1, results2]).reset_index()"
   ]
  },
  {
   "cell_type": "markdown",
   "metadata": {},
   "source": [
    "# Data Exploration"
   ]
  },
  {
   "cell_type": "code",
   "execution_count": 3,
   "metadata": {},
   "outputs": [
    {
     "name": "stdout",
     "output_type": "stream",
     "text": [
      "['index', 'dataset', 'model', 'learning_rate', 'batch_size', 'max_epochs', 'seed', 'best_val_accuracy', 'best_val_f1', 'best_val_loss', 'best_test_accuracy', 'best_test_f1', 'best_test_loss', 'exp_name', 'best_iter', 'total_iter', 'total_epochs']\n",
      "\n",
      " (40, 17)\n"
     ]
    }
   ],
   "source": [
    "print(list(results.columns.values))\n",
    "print(f\"\\n {results.shape}\")"
   ]
  },
  {
   "cell_type": "code",
   "execution_count": 13,
   "metadata": {},
   "outputs": [
    {
     "name": "stdout",
     "output_type": "stream",
     "text": [
      "Model runs {'roberta-large': 24, 'bert-large-uncased': 10, 'albert-xxlarge-v2': 6}\n",
      "learning_rate [3.e-06 5.e-06 1.e-05 3.e-05 5.e-05]\n",
      "batch_size [ 8 16 32 64]\n",
      "max_epochs [1 2]\n",
      "dataset ['reviews_UIC']\n"
     ]
    }
   ],
   "source": [
    "spaces = {\n",
    "    'learning_rate' : results['learning_rate'].unique(),\n",
    "    'batch_size' : results['batch_size'].unique(),\n",
    "    'max_epochs' : results['max_epochs'].unique(),\n",
    "    'dataset' : results['dataset'].unique(),\n",
    "}\n",
    "model = {}\n",
    "\n",
    "lr = 'learning_rate'\n",
    "bs = 'batch_size'\n",
    "ep = 'max_epochs'\n",
    "d = 'dataset'\n",
    "m = 'model'\n",
    "\n",
    "def add_if_havent(value, l):\n",
    "    if value not in l:\n",
    "        l.append(value)\n",
    "\n",
    "for label, row in results.iterrows():\n",
    "    if row['model'] in model.keys():\n",
    "        model[row['model']] += 1\n",
    "    else:\n",
    "        model[row['model']] = 1\n",
    "\n",
    "        \n",
    "print(f\"Model runs {model}\")\n",
    "\n",
    "for key, value in spaces.items():\n",
    "    value.sort()\n",
    "    print(f\"{key} {value}\")"
   ]
  },
  {
   "cell_type": "code",
   "execution_count": 14,
   "metadata": {},
   "outputs": [
    {
     "name": "stdout",
     "output_type": "stream",
     "text": [
      "Model: roberta-large\n",
      "Top best_val_accuracy: 0.7345679012345679\n",
      "Top best_val_f1: 0.6712962962962941\n",
      "\n",
      "Model: bert-large-uncased\n",
      "Top best_val_accuracy: 0.6990740740740741\n",
      "Top best_val_f1: 0.6327160493827144\n",
      "\n",
      "Model: albert-xxlarge-v2\n",
      "Top best_val_accuracy: 0.6836419753086421\n",
      "Top best_val_f1: 0.6172839506172827\n",
      "\n"
     ]
    }
   ],
   "source": [
    "scores = ['best_val_accuracy', 'best_val_f1']\n",
    "\n",
    "model_top_scores = {}\n",
    "\n",
    "for m in model.keys():\n",
    "    print(f\"Model: {m}\")\n",
    "    subset = results.loc[results['model']==m,:]\n",
    "    temp = {}\n",
    "    for score in scores:\n",
    "        temp[score] = max(subset[score])\n",
    "        print(f\"Top {score}: {temp[score]}\")\n",
    "    \n",
    "    model_top_scores[m] = temp\n",
    "    print(\"\")\n",
    "    "
   ]
  },
  {
   "cell_type": "code",
   "execution_count": 5,
   "metadata": {},
   "outputs": [
    {
     "name": "stdout",
     "output_type": "stream",
     "text": [
      "roberta-large\n",
      "learning_rate [3.e-06 1.e-05 3.e-05 5.e-05]\n",
      "batch_size [ 8 16 32 64]\n",
      "max_epochs [1 2]\n",
      "dataset ['reviews_UIC']\n",
      "\n",
      "bert-large-uncased\n",
      "learning_rate [5.e-06 1.e-05 3.e-05]\n",
      "batch_size [ 8 16]\n",
      "max_epochs [1]\n",
      "dataset ['reviews_UIC']\n",
      "\n",
      "albert-xxlarge-v2\n",
      "learning_rate [5.e-06 1.e-05 3.e-05]\n",
      "batch_size [ 8 16]\n",
      "max_epochs [1]\n",
      "dataset ['reviews_UIC']\n",
      "\n"
     ]
    }
   ],
   "source": [
    "for m in model.keys():\n",
    "    temp = results.loc[results['model']==m,:]\n",
    "    temp_s = {\n",
    "        'learning_rate' : temp['learning_rate'].unique(),\n",
    "        'batch_size' : temp['batch_size'].unique(),\n",
    "        'max_epochs' : temp['max_epochs'].unique(),\n",
    "        'dataset' : temp['dataset'].unique(),\n",
    "    }\n",
    "    \n",
    "    print(f\"{m}\")\n",
    "    for key, value in temp_s.items():\n",
    "        value.sort()\n",
    "        print(f\"{key} {value}\")\n",
    "    print(\"\")  "
   ]
  },
  {
   "cell_type": "markdown",
   "metadata": {},
   "source": [
    "# Analyze"
   ]
  },
  {
   "cell_type": "code",
   "execution_count": 6,
   "metadata": {},
   "outputs": [],
   "source": [
    "def make_box_plots(data,\n",
    "                   labels, \n",
    "                   key_frame = 'framing',\n",
    "                   key_acc = 'best_val_accuracy',\n",
    "                   x_size = 10,\n",
    "                   y_size = 5,\n",
    "                   y_min = 55,\n",
    "                   y_max = 100,\n",
    "                   y_tick = 15,\n",
    "                   y_offset = 1,\n",
    "                   x_offset = .8,\n",
    "                   splines_offset = 10,\n",
    "                   bar_trans = 0.3,\n",
    "                   colors = ['darkgrey',\n",
    "                             'gold',\n",
    "                             'skyblue',\n",
    "                            ],\n",
    "                   bar_colors = True,\n",
    "                   bar_labels = True,\n",
    "                   adjusted_axes = True,\n",
    "                   title = None,\n",
    "                   showfliers = True,\n",
    "                   notch = False,\n",
    "                   translation = None,\n",
    "                   ylabel = None,\n",
    "                  ):\n",
    "    \n",
    "    all_scores = []\n",
    "    max_scores = []\n",
    "    for label in labels:\n",
    "        dist = data.loc[data[key_frame]==label,key_acc]*100\n",
    "        all_scores.append(dist)\n",
    "        max_scores.append(max(dist))\n",
    "    \n",
    "    fig, ax = plt.subplots(figsize=(x_size, y_size))\n",
    "    if not title is None:\n",
    "        ax.set_title(title)\n",
    "    \n",
    "    if ylabel is not None:\n",
    "        ax.set_ylabel(ylabel)\n",
    "    \n",
    "    ax.set_ylim(y_min, y_max)\n",
    "    ax.set_yticks(np.arange(y_min, y_max+1, y_tick))\n",
    "    \n",
    "    plot_labels = labels\n",
    "    if translation is not None:\n",
    "        plot_labels = []\n",
    "        for label in labels:\n",
    "            plot_labels.append(translation[label])\n",
    "        \n",
    "    ax.set_xticklabels(plot_labels)\n",
    "    \n",
    "    if adjusted_axes:\n",
    "        # Adjust plot borders\n",
    "        ax.spines['right'].set_visible(False)\n",
    "        ax.spines['top'].set_visible(False)\n",
    "        ax.spines['left'].set_position(('outward', splines_offset))\n",
    "        ax.spines['bottom'].set_position(('outward', splines_offset))\n",
    "    \n",
    "    ticks = np.arange(len(labels))+1\n",
    "    \n",
    "    if not bar_colors:\n",
    "        colors = None\n",
    "    \n",
    "    ax.bar(ticks, max_scores, color = colors, alpha=bar_trans)\n",
    "    ax.boxplot(all_scores, notch = notch, showfliers = showfliers)\n",
    "    \n",
    "    if bar_labels:\n",
    "        for i, v in enumerate(max_scores):\n",
    "            ax.text(i + x_offset, v + y_offset, \"{:.2f}%\".format(v))\n",
    "    \n",
    "    # Adjust layout\n",
    "    fig.tight_layout()\n",
    "    \n",
    "    return fig"
   ]
  },
  {
   "cell_type": "code",
   "execution_count": 7,
   "metadata": {},
   "outputs": [],
   "source": [
    "def get_stats(data,\n",
    "              labels,\n",
    "              key_frame = 'framing',\n",
    "              key_acc = 'best_val_accuracy',\n",
    "             ):\n",
    "    results = {label : {} for label in labels}\n",
    "    \n",
    "    for label, value in results.items():\n",
    "        dist = data.loc[data[key_frame]==label,key_acc]\n",
    "        \n",
    "        value['mean'] = dist.mean()\n",
    "        value['std'] = dist.std()\n",
    "        value['medium'] = dist.median()\n",
    "        value['1Q'] = dist.quantile(q=0.25)\n",
    "        value['3Q'] = dist.quantile(q=0.75)\n",
    "        value['count'] = dist.shape[0]\n",
    "    \n",
    "    return results"
   ]
  },
  {
   "cell_type": "markdown",
   "metadata": {},
   "source": [
    "# Split by Local Minimum Stuck and Good Learning Rates"
   ]
  },
  {
   "cell_type": "code",
   "execution_count": 8,
   "metadata": {},
   "outputs": [],
   "source": [
    "ordered_models = ['albert-xxlarge-v2',\n",
    "                 'bert-large-uncased',\n",
    "                 'roberta-large']\n",
    "\n",
    "translation = {'albert-xxlarge-v2': 'ALBERT',\n",
    "              'bert-large-uncased': 'BERT',\n",
    "              'roberta-large': 'RoBERTa'}\n",
    "\n",
    "split = 2\n",
    "\n",
    "remove_lr = spaces['learning_rate'][-split:]\n",
    "\n",
    "results['keep'] = results['learning_rate'].apply(lambda x: x not in remove_lr)\n",
    "results['drop'] = results['learning_rate'].apply(lambda x: x in remove_lr)\n",
    "\n",
    "results_keep = results.loc[results['keep'],:]\n",
    "results_stuck = results.loc[results['drop'],:]"
   ]
  },
  {
   "cell_type": "code",
   "execution_count": 9,
   "metadata": {},
   "outputs": [
    {
     "data": {
      "image/png": "[encoded data removed]",
      "text/plain": [
       "<Figure size 720x360 with 1 Axes>"
      ]
     },
     "metadata": {
      "needs_background": "light"
     },
     "output_type": "display_data"
    },
    {
     "data": {
      "image/png": "[encoded data removed]",
      "text/plain": [
       "<Figure size 720x360 with 1 Axes>"
      ]
     },
     "metadata": {
      "needs_background": "light"
     },
     "output_type": "display_data"
    },
    {
     "data": {
      "image/png": "[encoded data removed]",
      "text/plain": [
       "<Figure size 720x360 with 1 Axes>"
      ]
     },
     "metadata": {
      "needs_background": "light"
     },
     "output_type": "display_data"
    }
   ],
   "source": [
    "x_offset = 0.93\n",
    "y_min = 50\n",
    "y_max = 80\n",
    "y_tick = 10\n",
    "ylabel = 'Accuracy'\n",
    "key_frame = 'model'\n",
    "key_acc = 'best_val_accuracy'\n",
    "\n",
    "\n",
    "f_total = make_box_plots(results,\n",
    "                       ordered_models,\n",
    "                       title = 'Total',\n",
    "                       key_frame = key_frame,\n",
    "                       key_acc = key_acc,\n",
    "                       y_min = y_min,\n",
    "                       y_max = y_max,\n",
    "                       y_tick = y_tick,\n",
    "                       x_offset = x_offset,\n",
    "                       bar_colors = True,\n",
    "                       bar_labels = True,\n",
    "                       adjusted_axes = True,\n",
    "                       showfliers = True,\n",
    "                       notch = False,\n",
    "                       translation = translation,\n",
    "                       ylabel = ylabel,\n",
    "                      )\n",
    "\n",
    "f_keep = make_box_plots(results_keep,\n",
    "                       ordered_models,\n",
    "                       title = 'Effective Learning Rates',\n",
    "                       key_frame = key_frame,\n",
    "                       key_acc = key_acc,\n",
    "                       y_min = y_min,\n",
    "                       y_max = y_max,\n",
    "                       y_tick = y_tick,\n",
    "                       x_offset = x_offset,\n",
    "                       bar_colors = True,\n",
    "                       bar_labels = True,\n",
    "                       adjusted_axes = True,\n",
    "                       showfliers = True,\n",
    "                       notch = False,\n",
    "                       translation = translation,\n",
    "                       ylabel = ylabel,\n",
    "                      )\n",
    "\n",
    "f_stuck = make_box_plots(results_stuck,\n",
    "                       ordered_models,\n",
    "                       title = 'Ineffective Learning Rates',\n",
    "                       key_frame = key_frame,\n",
    "                       key_acc = key_acc,\n",
    "                       y_min = y_min,\n",
    "                       y_max = y_max,\n",
    "                       y_tick = y_tick,\n",
    "                       x_offset = x_offset,\n",
    "                       bar_colors = True,\n",
    "                       bar_labels = True,\n",
    "                       adjusted_axes = True,\n",
    "                       showfliers = True,\n",
    "                       notch = False,\n",
    "                       translation = translation,\n",
    "                       ylabel = ylabel,\n",
    "                      )"
   ]
  },
  {
   "cell_type": "code",
   "execution_count": 10,
   "metadata": {},
   "outputs": [
    {
     "name": "stdout",
     "output_type": "stream",
     "text": [
      "total\n",
      "albert-xxlarge-v2: {'mean': 0.6323302469135802, 'std': 0.042785476432996995, 'medium': 0.6168981481481481, '1Q': 0.5964506172839507, '3Q': 0.672067901234568, 'count': 6}\n",
      "bert-large-uncased: {'mean': 0.6618827160493828, 'std': 0.03905198559994804, 'medium': 0.6728395061728395, '1Q': 0.6386959876543209, '3Q': 0.689236111111111, 'count': 10}\n",
      "roberta-large: {'mean': 0.6280864197530864, 'std': 0.05610867448873046, 'medium': 0.5964506172839507, '1Q': 0.5964506172839507, '3Q': 0.625, 'count': 24}\n",
      "\n",
      "keep\n",
      "albert-xxlarge-v2: {'mean': 0.6502700617283951, 'std': 0.041995799396743284, 'medium': 0.6604938271604939, '1Q': 0.6271219135802469, '3Q': 0.6836419753086421, 'count': 4}\n",
      "bert-large-uncased: {'mean': 0.677662037037037, 'std': 0.023194948281375583, 'medium': 0.6801697530864197, '1Q': 0.6728395061728395, '3Q': 0.6921296296296295, 'count': 8}\n",
      "roberta-large: {'mean': 0.7229938271604938, 'std': 0.00835331395229899, 'medium': 0.722608024691358, '1Q': 0.7191358024691358, '3Q': 0.7278163580246914, 'count': 6}\n",
      "\n",
      "stuck\n",
      "albert-xxlarge-v2: {'mean': 0.5964506172839507, 'std': 0.0, 'medium': 0.5964506172839507, '1Q': 0.5964506172839507, '3Q': 0.5964506172839507, 'count': 2}\n",
      "bert-large-uncased: {'mean': 0.5987654320987654, 'std': 0.0, 'medium': 0.5987654320987654, '1Q': 0.5987654320987654, '3Q': 0.5987654320987654, 'count': 2}\n",
      "roberta-large: {'mean': 0.5964506172839507, 'std': 0.0, 'medium': 0.5964506172839507, '1Q': 0.5964506172839507, '3Q': 0.5964506172839507, 'count': 18}\n",
      "\n"
     ]
    }
   ],
   "source": [
    "key_frame = 'model'\n",
    "key_acc = 'best_val_accuracy'\n",
    "ordered_models = ['albert-xxlarge-v2',\n",
    "                 'bert-large-uncased',\n",
    "                 'roberta-large']\n",
    "\n",
    "stats_total = get_stats(results,\n",
    "                        ordered_models,\n",
    "                        key_frame = key_frame,\n",
    "                        key_acc = key_acc,\n",
    "                       )\n",
    "\n",
    "stats_keep = get_stats(results_keep,\n",
    "                        ordered_models,\n",
    "                        key_frame = key_frame,\n",
    "                        key_acc = key_acc,\n",
    "                       )\n",
    "\n",
    "stats_stuck = get_stats(results_stuck,\n",
    "                        ordered_models,\n",
    "                        key_frame = key_frame,\n",
    "                        key_acc = key_acc,\n",
    "                       )\n",
    "\n",
    "stats = {'total':stats_total, 'keep':stats_keep, 'stuck':stats_stuck}\n",
    "\n",
    "for key, value in stats.items():\n",
    "    print(f\"{key}\")\n",
    "    for m, stat in value.items():\n",
    "        print(f\"{m}: {stat}\")\n",
    "    print(\"\")"
   ]
  },
  {
   "cell_type": "markdown",
   "metadata": {},
   "source": [
    "# Save Stuff"
   ]
  },
  {
   "cell_type": "code",
   "execution_count": 11,
   "metadata": {},
   "outputs": [],
   "source": [
    "wd = os.path.dirname('__file__')\n",
    "now = dt.now().strftime(\"%Y%m%d_%H%M\")\n",
    "PRE = 'Text-Only'\n",
    "\n",
    "plots = {\"total\":f_total, \"keep\":f_keep, \"stuck\":f_stuck}\n",
    "stats = {\"total\":stats_total, \"keep\":stats_keep, \"stuck\":stats_stuck}\n",
    "\n",
    "plot_names = {key:os.path.join(wd, f\"{PRE}_{key}_plot_{now}.png\") for key in plots.keys()}\n",
    "\n",
    "stats_names = {key:os.path.join(wd, f\"{PRE}_{key}_stats_{now}.json\") for key in stats.keys()}\n",
    "\n",
    "for key in plots.keys():\n",
    "    plots[key].savefig(plot_names[key])\n",
    "    with open(stats_names[key], 'w') as f:\n",
    "        f.write(json.dumps(stats[key]))"
   ]
  }
 ],
 "metadata": {
  "kernelspec": {
   "display_name": "DL",
   "language": "python",
   "name": "dl"
  },
  "language_info": {
   "codemirror_mode": {
    "name": "ipython",
    "version": 3
   },
   "file_extension": ".py",
   "mimetype": "text/x-python",
   "name": "python",
   "nbconvert_exporter": "python",
   "pygments_lexer": "ipython3",
   "version": "3.7.7"
  }
 },
 "nbformat": 4,
 "nbformat_minor": 4
}
