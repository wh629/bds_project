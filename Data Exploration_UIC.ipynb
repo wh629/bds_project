{
 "cells": [
  {
   "cell_type": "code",
   "execution_count": 20,
   "metadata": {},
   "outputs": [],
   "source": [
    "import pandas as pd\n",
    "import tqdm\n",
    "import sqlite3 as sq\n",
    "import matplotlib.pyplot as plt"
   ]
  },
  {
   "cell_type": "markdown",
   "metadata": {},
   "source": [
    "## Import UIC Data"
   ]
  },
  {
   "cell_type": "code",
   "execution_count": 2,
   "metadata": {},
   "outputs": [],
   "source": [
    "data_path = \"../\"\n",
    "\n",
    "res_name = data_path + 'yelpResData.db'\n",
    "hot_name = data_path + 'yelpHotelData.db'\n",
    "\n",
    "res_conn = sq.connect(res_name)\n",
    "hot_conn = sq.connect(hot_name)"
   ]
  },
  {
   "cell_type": "code",
   "execution_count": 3,
   "metadata": {},
   "outputs": [
    {
     "name": "stdout",
     "output_type": "stream",
     "text": [
      "review\n",
      "restaurant\n",
      "reviewer\n",
      "\n",
      "review\n",
      "sqlite_stat1\n",
      "sqlite_stat2\n",
      "reviewer\n",
      "hotel\n"
     ]
    }
   ],
   "source": [
    "res_tables = res_conn.execute(\"SELECT name FROM sqlite_master WHERE type='table';\")\n",
    "for name in res_tables:\n",
    "    print(name[0])\n",
    "    \n",
    "print(\"\")\n",
    "\n",
    "hot_tables = hot_conn.execute(\"SELECT name FROM sqlite_master WHERE type='table';\")\n",
    "for name in hot_tables:\n",
    "    print(name[0])"
   ]
  },
  {
   "cell_type": "code",
   "execution_count": 4,
   "metadata": {},
   "outputs": [],
   "source": [
    "sql_q = lambda x: \"SELECT * FROM \" + x + \" ;\"\n",
    "res_conn.text_factory = lambda b: b.decode(errors = 'ignore')\n",
    "hot_conn.text_factory = lambda b: b.decode(errors = 'ignore')\n",
    "\n",
    "res_rev_df = pd.read_sql(sql_q('review'),res_conn)\n",
    "res_rest_df = pd.read_sql(sql_q('restaurant'),res_conn)\n",
    "res_rever_df = pd.read_sql(sql_q('reviewer'),res_conn)\n",
    "\n",
    "hot_rev_df = pd.read_sql(sql_q('review'),hot_conn)\n",
    "hot_sqlite1_df = pd.read_sql(sql_q('sqlite_stat1'),hot_conn)\n",
    "hot_sqlite2_df = pd.read_sql(sql_q('sqlite_stat2'),hot_conn)\n",
    "hot_rever_df = pd.read_sql(sql_q('reviewer'),hot_conn)\n",
    "hot_hot_df = pd.read_sql(sql_q('hotel'),hot_conn)"
   ]
  },
  {
   "cell_type": "markdown",
   "metadata": {},
   "source": [
    "## Table Columns"
   ]
  },
  {
   "cell_type": "code",
   "execution_count": 5,
   "metadata": {
    "collapsed": true
   },
   "outputs": [
    {
     "name": "stdout",
     "output_type": "stream",
     "text": [
      "restaurant reviews:  ['date', 'reviewID', 'reviewerID', 'reviewContent', 'rating', 'usefulCount', 'coolCount', 'funnyCount', 'flagged', 'restaurantID']\n",
      "restaurant restaurants:  ['restaurantID', 'name', 'location', 'reviewCount', 'rating', 'categories', 'address', 'Hours', 'GoodforKids', 'AcceptsCreditCards', 'Parking', 'Attire', 'GoodforGroups', 'PriceRange', 'TakesReservations', 'Delivery', 'Takeout', 'WaiterService', 'OutdoorSeating', 'WiFi', 'GoodFor', 'Alcohol', 'NoiseLevel', 'Ambience', 'HasTV', 'Caters', 'WheelchairAccessible', 'webSite', 'phoneNumber', 'filReviewCount']\n",
      "restaurant reviewers:  ['reviewerID', 'name', 'location', 'yelpJoinDate', 'friendCount', 'reviewCount', 'firstCount', 'usefulCount', 'coolCount', 'funnyCount', 'complimentCount', 'tipCount', 'fanCount']\n",
      "\n",
      "hotel reviews:  ['date', 'reviewID', 'reviewerID', 'reviewContent', 'rating', 'usefulCount', 'coolCount', 'funnyCount', 'flagged', 'hotelID']\n",
      "hotel sqlite_stat1:  ['tbl', 'idx', 'stat']\n",
      "hotel sqlite_stat2:  ['tbl', 'idx', 'sampleno', 'sample']\n",
      "hotel reviewers:  ['reviewerID', 'name', 'location', 'yelpJoinDate', 'friendCount', 'reviewCount', 'firstCount', 'usefulCount', 'coolCount', 'funnyCount', 'complimentCount', 'tipCount', 'fanCount']\n",
      "hotel hotel:  ['hotelID', 'name', 'location', 'reviewCount', 'rating', 'categories', 'address', 'AcceptsCreditCards', 'PriceRange', 'WiFi', 'webSite', 'phoneNumber', 'filReviewCount']\n"
     ]
    }
   ],
   "source": [
    "print(\"restaurant reviews: \",list(res_rev_df.columns.values))\n",
    "print(\"restaurant restaurants: \",list(res_rest_df.columns.values))\n",
    "print(\"restaurant reviewers: \",list(res_rever_df.columns.values))\n",
    "print(\"\")\n",
    "print(\"hotel reviews: \",list(hot_rev_df.columns.values))\n",
    "print(\"hotel sqlite_stat1: \",list(hot_sqlite1_df.columns.values))\n",
    "print(\"hotel sqlite_stat2: \",list(hot_sqlite2_df.columns.values))\n",
    "print(\"hotel reviewers: \",list(hot_rever_df.columns.values))\n",
    "print(\"hotel hotel: \",list(hot_hot_df.columns.values))"
   ]
  },
  {
   "cell_type": "code",
   "execution_count": 6,
   "metadata": {},
   "outputs": [
    {
     "data": {
      "text/plain": [
       "array(['N', 'Y', 'NR', 'YR'], dtype=object)"
      ]
     },
     "execution_count": 6,
     "metadata": {},
     "output_type": "execute_result"
    }
   ],
   "source": [
    "# Find unique values of flagged\n",
    "res_rev_df.loc[:,'flagged'].unique()"
   ]
  },
  {
   "cell_type": "code",
   "execution_count": 7,
   "metadata": {},
   "outputs": [],
   "source": [
    "res_rev_df['has_empty'] = res_rev_df.isna().sum(axis=1)>0"
   ]
  },
  {
   "cell_type": "code",
   "execution_count": 8,
   "metadata": {},
   "outputs": [
    {
     "name": "stdout",
     "output_type": "stream",
     "text": [
      "(788471,)\n",
      "(788471, 11)\n"
     ]
    }
   ],
   "source": [
    "print(res_rev_df.loc[res_rev_df['has_empty']==False,'has_empty'].shape)\n",
    "\n",
    "print(res_rev_df.shape)"
   ]
  },
  {
   "cell_type": "code",
   "execution_count": 9,
   "metadata": {},
   "outputs": [
    {
     "name": "stdout",
     "output_type": "stream",
     "text": [
      "N #:  58716\n",
      "N %:  0.07446817955257708\n",
      "\n",
      "Y #:  8303\n",
      "Y %:  0.0105305077802481\n",
      "\n",
      "NR #:  402774\n",
      "NR %:  0.5108291871229252\n",
      "\n",
      "YR #:  318678\n",
      "YR %:  0.4041721255442496\n"
     ]
    }
   ],
   "source": [
    "# Percent flagged\n",
    "total = res_rev_df.shape[0]\n",
    "\n",
    "print(\"N #: \",res_rev_df.loc[res_rev_df.loc[:,'flagged']=='N',:].shape[0])\n",
    "print(\"N %: \",res_rev_df.loc[res_rev_df.loc[:,'flagged']=='N',:].shape[0]/total)\n",
    "print(\"\")\n",
    "print(\"Y #: \",res_rev_df.loc[res_rev_df.loc[:,'flagged']=='Y',:].shape[0])\n",
    "print(\"Y %: \",res_rev_df.loc[res_rev_df.loc[:,'flagged']=='Y',:].shape[0]/total)\n",
    "print(\"\")\n",
    "print(\"NR #: \",res_rev_df.loc[res_rev_df.loc[:,'flagged']=='NR',:].shape[0])\n",
    "print(\"NR %: \",res_rev_df.loc[res_rev_df.loc[:,'flagged']=='NR',:].shape[0]/total)\n",
    "print(\"\")\n",
    "print(\"YR #: \",res_rev_df.loc[res_rev_df.loc[:,'flagged']=='YR',:].shape[0])\n",
    "print(\"YR %: \",res_rev_df.loc[res_rev_df.loc[:,'flagged']=='YR',:].shape[0]/total)"
   ]
  },
  {
   "cell_type": "code",
   "execution_count": 10,
   "metadata": {},
   "outputs": [
    {
     "name": "stdout",
     "output_type": "stream",
     "text": [
      "788471\n"
     ]
    }
   ],
   "source": [
    "print(len(res_rev_df['reviewID'].unique()))"
   ]
  },
  {
   "cell_type": "code",
   "execution_count": 11,
   "metadata": {},
   "outputs": [
    {
     "data": {
      "text/html": [
       "<div>\n",
       "<style scoped>\n",
       "    .dataframe tbody tr th:only-of-type {\n",
       "        vertical-align: middle;\n",
       "    }\n",
       "\n",
       "    .dataframe tbody tr th {\n",
       "        vertical-align: top;\n",
       "    }\n",
       "\n",
       "    .dataframe thead th {\n",
       "        text-align: right;\n",
       "    }\n",
       "</style>\n",
       "<table border=\"1\" class=\"dataframe\">\n",
       "  <thead>\n",
       "    <tr style=\"text-align: right;\">\n",
       "      <th></th>\n",
       "      <th>date</th>\n",
       "      <th>reviewID</th>\n",
       "      <th>reviewerID</th>\n",
       "      <th>reviewContent</th>\n",
       "      <th>rating</th>\n",
       "      <th>usefulCount</th>\n",
       "      <th>coolCount</th>\n",
       "      <th>funnyCount</th>\n",
       "      <th>flagged</th>\n",
       "      <th>restaurantID</th>\n",
       "      <th>has_empty</th>\n",
       "    </tr>\n",
       "  </thead>\n",
       "  <tbody>\n",
       "    <tr>\n",
       "      <th>0</th>\n",
       "      <td>9/22/2012</td>\n",
       "      <td>GtwU21YOQn-wf4vWRUIx6w</td>\n",
       "      <td>bNYesZ944s6IJVowOnB0iA</td>\n",
       "      <td>Unlike Next, which we'd eaten at the previous ...</td>\n",
       "      <td>5</td>\n",
       "      <td>0</td>\n",
       "      <td>0</td>\n",
       "      <td>0</td>\n",
       "      <td>N</td>\n",
       "      <td>pbEiXam9YJL3neCYHGwLUA</td>\n",
       "      <td>False</td>\n",
       "    </tr>\n",
       "    <tr>\n",
       "      <th>1</th>\n",
       "      <td>9/22/2012</td>\n",
       "      <td>0LpVTc3</td>\n",
       "      <td>TRKxLC3y-ZvP45e5iilMtw</td>\n",
       "      <td>Probably one of the best meals I've had ever. ...</td>\n",
       "      <td>5</td>\n",
       "      <td>0</td>\n",
       "      <td>0</td>\n",
       "      <td>0</td>\n",
       "      <td>N</td>\n",
       "      <td>pbEiXam9YJL3neCYHGwLUA</td>\n",
       "      <td>False</td>\n",
       "    </tr>\n",
       "    <tr>\n",
       "      <th>2</th>\n",
       "      <td>9/19/2012</td>\n",
       "      <td>tljtLzf68Fkwf</td>\n",
       "      <td>0EMm8umAqXZzyhxNpL4M9g</td>\n",
       "      <td>Service was impeccable. Experience and present...</td>\n",
       "      <td>3</td>\n",
       "      <td>2</td>\n",
       "      <td>0</td>\n",
       "      <td>0</td>\n",
       "      <td>N</td>\n",
       "      <td>pbEiXam9YJL3neCYHGwLUA</td>\n",
       "      <td>False</td>\n",
       "    </tr>\n",
       "    <tr>\n",
       "      <th>3</th>\n",
       "      <td>9/6/2012</td>\n",
       "      <td>iSN</td>\n",
       "      <td>DlwexC7z88ymAzu45skODw</td>\n",
       "      <td>The problem with places like this, given the e...</td>\n",
       "      <td>3</td>\n",
       "      <td>8</td>\n",
       "      <td>0</td>\n",
       "      <td>3</td>\n",
       "      <td>N</td>\n",
       "      <td>pbEiXam9YJL3neCYHGwLUA</td>\n",
       "      <td>False</td>\n",
       "    </tr>\n",
       "    <tr>\n",
       "      <th>4</th>\n",
       "      <td>9/9/2012</td>\n",
       "      <td>Jmwrh7</td>\n",
       "      <td>kW2dk1CWihmh3g7k9N2G8A</td>\n",
       "      <td>I have no idea how to write my review - dining...</td>\n",
       "      <td>5</td>\n",
       "      <td>1</td>\n",
       "      <td>2</td>\n",
       "      <td>0</td>\n",
       "      <td>N</td>\n",
       "      <td>pbEiXam9YJL3neCYHGwLUA</td>\n",
       "      <td>False</td>\n",
       "    </tr>\n",
       "  </tbody>\n",
       "</table>\n",
       "</div>"
      ],
      "text/plain": [
       "        date                reviewID              reviewerID  \\\n",
       "0  9/22/2012  GtwU21YOQn-wf4vWRUIx6w  bNYesZ944s6IJVowOnB0iA   \n",
       "1  9/22/2012                 0LpVTc3  TRKxLC3y-ZvP45e5iilMtw   \n",
       "2  9/19/2012           tljtLzf68Fkwf  0EMm8umAqXZzyhxNpL4M9g   \n",
       "3   9/6/2012                     iSN  DlwexC7z88ymAzu45skODw   \n",
       "4   9/9/2012                  Jmwrh7  kW2dk1CWihmh3g7k9N2G8A   \n",
       "\n",
       "                                       reviewContent  rating  usefulCount  \\\n",
       "0  Unlike Next, which we'd eaten at the previous ...       5            0   \n",
       "1  Probably one of the best meals I've had ever. ...       5            0   \n",
       "2  Service was impeccable. Experience and present...       3            2   \n",
       "3  The problem with places like this, given the e...       3            8   \n",
       "4  I have no idea how to write my review - dining...       5            1   \n",
       "\n",
       "   coolCount  funnyCount flagged            restaurantID  has_empty  \n",
       "0          0           0       N  pbEiXam9YJL3neCYHGwLUA      False  \n",
       "1          0           0       N  pbEiXam9YJL3neCYHGwLUA      False  \n",
       "2          0           0       N  pbEiXam9YJL3neCYHGwLUA      False  \n",
       "3          0           3       N  pbEiXam9YJL3neCYHGwLUA      False  \n",
       "4          2           0       N  pbEiXam9YJL3neCYHGwLUA      False  "
      ]
     },
     "execution_count": 11,
     "metadata": {},
     "output_type": "execute_result"
    }
   ],
   "source": [
    "res_rev_df.head()"
   ]
  },
  {
   "cell_type": "code",
   "execution_count": 12,
   "metadata": {},
   "outputs": [
    {
     "data": {
      "text/html": [
       "<div>\n",
       "<style scoped>\n",
       "    .dataframe tbody tr th:only-of-type {\n",
       "        vertical-align: middle;\n",
       "    }\n",
       "\n",
       "    .dataframe tbody tr th {\n",
       "        vertical-align: top;\n",
       "    }\n",
       "\n",
       "    .dataframe thead th {\n",
       "        text-align: right;\n",
       "    }\n",
       "</style>\n",
       "<table border=\"1\" class=\"dataframe\">\n",
       "  <thead>\n",
       "    <tr style=\"text-align: right;\">\n",
       "      <th></th>\n",
       "      <th>date</th>\n",
       "      <th>reviewID</th>\n",
       "      <th>reviewerID</th>\n",
       "      <th>reviewContent</th>\n",
       "      <th>rating</th>\n",
       "      <th>usefulCount</th>\n",
       "      <th>coolCount</th>\n",
       "      <th>funnyCount</th>\n",
       "      <th>flagged</th>\n",
       "      <th>hotelID</th>\n",
       "    </tr>\n",
       "  </thead>\n",
       "  <tbody>\n",
       "    <tr>\n",
       "      <th>0</th>\n",
       "      <td>6/8/2011</td>\n",
       "      <td>MyNjnxzZVTPq</td>\n",
       "      <td>IFTr6_6NI4CgCVavIL9k5g</td>\n",
       "      <td>Let me begin by saying that there are two kind...</td>\n",
       "      <td>5</td>\n",
       "      <td>18</td>\n",
       "      <td>11</td>\n",
       "      <td>28</td>\n",
       "      <td>N</td>\n",
       "      <td>tQfLGoolUMu2J0igcWcoZg</td>\n",
       "    </tr>\n",
       "    <tr>\n",
       "      <th>1</th>\n",
       "      <td>8/30/2011</td>\n",
       "      <td>BdD7fsPqHQL73hwENEDT-Q</td>\n",
       "      <td>c_-hF15XgNhlyy_TqzmdaA</td>\n",
       "      <td>The only place inside the Loop that you can st...</td>\n",
       "      <td>3</td>\n",
       "      <td>0</td>\n",
       "      <td>3</td>\n",
       "      <td>4</td>\n",
       "      <td>N</td>\n",
       "      <td>tQfLGoolUMu2J0igcWcoZg</td>\n",
       "    </tr>\n",
       "    <tr>\n",
       "      <th>2</th>\n",
       "      <td>6/26/2009</td>\n",
       "      <td>BfhqiyfC</td>\n",
       "      <td>CiwZ6S5ZizAFL5gypf8tLA</td>\n",
       "      <td>I have walked by the Tokyo Hotel countless tim...</td>\n",
       "      <td>5</td>\n",
       "      <td>12</td>\n",
       "      <td>14</td>\n",
       "      <td>23</td>\n",
       "      <td>N</td>\n",
       "      <td>tQfLGoolUMu2J0igcWcoZg</td>\n",
       "    </tr>\n",
       "    <tr>\n",
       "      <th>3</th>\n",
       "      <td>9/16/2010</td>\n",
       "      <td>Ol</td>\n",
       "      <td>nf3q2h-kSQoZK2jBY92FOg</td>\n",
       "      <td>If you are considering staying here, watch thi...</td>\n",
       "      <td>1</td>\n",
       "      <td>8</td>\n",
       "      <td>2</td>\n",
       "      <td>6</td>\n",
       "      <td>N</td>\n",
       "      <td>tQfLGoolUMu2J0igcWcoZg</td>\n",
       "    </tr>\n",
       "    <tr>\n",
       "      <th>4</th>\n",
       "      <td>2/5/2010</td>\n",
       "      <td>i4HIAcNTjabdpG1K4F5Q2g</td>\n",
       "      <td>Sb3DJGdZ4Rq__CqxPbae-g</td>\n",
       "      <td>This place is disgusting, absolutely horrible,...</td>\n",
       "      <td>3</td>\n",
       "      <td>11</td>\n",
       "      <td>4</td>\n",
       "      <td>9</td>\n",
       "      <td>N</td>\n",
       "      <td>tQfLGoolUMu2J0igcWcoZg</td>\n",
       "    </tr>\n",
       "  </tbody>\n",
       "</table>\n",
       "</div>"
      ],
      "text/plain": [
       "        date                reviewID              reviewerID  \\\n",
       "0   6/8/2011            MyNjnxzZVTPq  IFTr6_6NI4CgCVavIL9k5g   \n",
       "1  8/30/2011  BdD7fsPqHQL73hwENEDT-Q  c_-hF15XgNhlyy_TqzmdaA   \n",
       "2  6/26/2009                BfhqiyfC  CiwZ6S5ZizAFL5gypf8tLA   \n",
       "3  9/16/2010                      Ol  nf3q2h-kSQoZK2jBY92FOg   \n",
       "4   2/5/2010  i4HIAcNTjabdpG1K4F5Q2g  Sb3DJGdZ4Rq__CqxPbae-g   \n",
       "\n",
       "                                       reviewContent  rating  usefulCount  \\\n",
       "0  Let me begin by saying that there are two kind...       5           18   \n",
       "1  The only place inside the Loop that you can st...       3            0   \n",
       "2  I have walked by the Tokyo Hotel countless tim...       5           12   \n",
       "3  If you are considering staying here, watch thi...       1            8   \n",
       "4  This place is disgusting, absolutely horrible,...       3           11   \n",
       "\n",
       "   coolCount  funnyCount flagged                 hotelID  \n",
       "0         11          28       N  tQfLGoolUMu2J0igcWcoZg  \n",
       "1          3           4       N  tQfLGoolUMu2J0igcWcoZg  \n",
       "2         14          23       N  tQfLGoolUMu2J0igcWcoZg  \n",
       "3          2           6       N  tQfLGoolUMu2J0igcWcoZg  \n",
       "4          4           9       N  tQfLGoolUMu2J0igcWcoZg  "
      ]
     },
     "execution_count": 12,
     "metadata": {},
     "output_type": "execute_result"
    }
   ],
   "source": [
    "hot_rev_df.head()"
   ]
  },
  {
   "cell_type": "code",
   "execution_count": 13,
   "metadata": {},
   "outputs": [
    {
     "data": {
      "text/html": [
       "<div>\n",
       "<style scoped>\n",
       "    .dataframe tbody tr th:only-of-type {\n",
       "        vertical-align: middle;\n",
       "    }\n",
       "\n",
       "    .dataframe tbody tr th {\n",
       "        vertical-align: top;\n",
       "    }\n",
       "\n",
       "    .dataframe thead th {\n",
       "        text-align: right;\n",
       "    }\n",
       "</style>\n",
       "<table border=\"1\" class=\"dataframe\">\n",
       "  <thead>\n",
       "    <tr style=\"text-align: right;\">\n",
       "      <th></th>\n",
       "      <th>restaurantID</th>\n",
       "      <th>name</th>\n",
       "      <th>location</th>\n",
       "      <th>reviewCount</th>\n",
       "      <th>rating</th>\n",
       "      <th>categories</th>\n",
       "      <th>address</th>\n",
       "      <th>Hours</th>\n",
       "      <th>GoodforKids</th>\n",
       "      <th>AcceptsCreditCards</th>\n",
       "      <th>...</th>\n",
       "      <th>GoodFor</th>\n",
       "      <th>Alcohol</th>\n",
       "      <th>NoiseLevel</th>\n",
       "      <th>Ambience</th>\n",
       "      <th>HasTV</th>\n",
       "      <th>Caters</th>\n",
       "      <th>WheelchairAccessible</th>\n",
       "      <th>webSite</th>\n",
       "      <th>phoneNumber</th>\n",
       "      <th>filReviewCount</th>\n",
       "    </tr>\n",
       "  </thead>\n",
       "  <tbody>\n",
       "    <tr>\n",
       "      <th>0</th>\n",
       "      <td>pbEiXam9YJL3neCYHGwLUA</td>\n",
       "      <td>Alinea</td>\n",
       "      <td>Alinea - Lincoln Park - Chicago, IL</td>\n",
       "      <td>841</td>\n",
       "      <td>4.5</td>\n",
       "      <td>Restaurants, American (New)</td>\n",
       "      <td>1723 N Halsted St (between Willow St &amp; Concord...</td>\n",
       "      <td>Wed-Sun 5 pm - 6:30 pm Wed-Sun 8 pm - 9:30 pm</td>\n",
       "      <td>No</td>\n",
       "      <td>Yes</td>\n",
       "      <td>...</td>\n",
       "      <td>Dinner</td>\n",
       "      <td>Full Bar</td>\n",
       "      <td>Quiet</td>\n",
       "      <td>Classy, Upscale</td>\n",
       "      <td>No</td>\n",
       "      <td>No</td>\n",
       "      <td>Yes</td>\n",
       "      <td>http://www.alinearestaurant.com</td>\n",
       "      <td>(312) 867-0110</td>\n",
       "      <td>136</td>\n",
       "    </tr>\n",
       "    <tr>\n",
       "      <th>1</th>\n",
       "      <td>HOJqzz1WvOmeR9oESJ4d9A</td>\n",
       "      <td>Hot Doug's</td>\n",
       "      <td>Hot Doug's - Avondale - Chicago, IL</td>\n",
       "      <td>2122</td>\n",
       "      <td>4.5</td>\n",
       "      <td>Restaurants, Fast Food, Hot Dogs</td>\n",
       "      <td>3324 N California Ave (between Henderson St &amp; ...</td>\n",
       "      <td>Mon-Sat 10:30 am - 4 pm</td>\n",
       "      <td>Yes</td>\n",
       "      <td>No</td>\n",
       "      <td>...</td>\n",
       "      <td>Lunch</td>\n",
       "      <td>No</td>\n",
       "      <td>Average</td>\n",
       "      <td>Casual</td>\n",
       "      <td>No</td>\n",
       "      <td>No</td>\n",
       "      <td>Yes</td>\n",
       "      <td>http://www.hotdougs.com</td>\n",
       "      <td>(773) 279-9550</td>\n",
       "      <td>234</td>\n",
       "    </tr>\n",
       "    <tr>\n",
       "      <th>2</th>\n",
       "      <td>AkfSndWBxnTn-LpmiL8aLA</td>\n",
       "      <td>Tru</td>\n",
       "      <td>Tru - Near North Side - Chicago, IL</td>\n",
       "      <td>403</td>\n",
       "      <td>4.5</td>\n",
       "      <td>Restaurants, American (New)</td>\n",
       "      <td>676 N St. Clair St (between Erie St &amp; Huron St...</td>\n",
       "      <td>Mon-Thu 6 pm - 9:30 pm Fri 6 pm - 10 pm Sat 5 ...</td>\n",
       "      <td>No</td>\n",
       "      <td>Yes</td>\n",
       "      <td>...</td>\n",
       "      <td>Dinner</td>\n",
       "      <td>Full Bar</td>\n",
       "      <td>Quiet</td>\n",
       "      <td>Classy, Upscale</td>\n",
       "      <td>No</td>\n",
       "      <td>No</td>\n",
       "      <td>Yes</td>\n",
       "      <td>http://www.TRUrestaurant.com</td>\n",
       "      <td>(312) 202-0001</td>\n",
       "      <td>52</td>\n",
       "    </tr>\n",
       "    <tr>\n",
       "      <th>3</th>\n",
       "      <td>WBU0yq9J8qiYQfI_fh2P1Q</td>\n",
       "      <td>Crisp</td>\n",
       "      <td>Crisp - Lakeview - Chicago, IL</td>\n",
       "      <td>1026</td>\n",
       "      <td>4.0</td>\n",
       "      <td>Restaurants, Korean, Chicken Wings</td>\n",
       "      <td>2940 N Broadway Ave (between Oakdale Ave &amp; Wel...</td>\n",
       "      <td>Tue-Sun 11:30 am - 9 pm</td>\n",
       "      <td>Yes</td>\n",
       "      <td>Yes</td>\n",
       "      <td>...</td>\n",
       "      <td>Lunch, Dinner</td>\n",
       "      <td>No</td>\n",
       "      <td>Average</td>\n",
       "      <td>Casual</td>\n",
       "      <td>Yes</td>\n",
       "      <td>No</td>\n",
       "      <td>Yes</td>\n",
       "      <td>http://www.crisponline.com</td>\n",
       "      <td>(773) 697-7610</td>\n",
       "      <td>99</td>\n",
       "    </tr>\n",
       "    <tr>\n",
       "      <th>4</th>\n",
       "      <td>bNXpwTSavHBV9zBk2lUlGA</td>\n",
       "      <td>Schwa</td>\n",
       "      <td>Schwa - Wicker Park - Chicago, IL</td>\n",
       "      <td>288</td>\n",
       "      <td>4.5</td>\n",
       "      <td>Restaurants, American (New)</td>\n",
       "      <td>1466 N Ashland Ave (between Julian St &amp; Le Moy...</td>\n",
       "      <td>Tue-Sat 5:30 pm - 10:30 pm</td>\n",
       "      <td>No</td>\n",
       "      <td>Yes</td>\n",
       "      <td>...</td>\n",
       "      <td>Dinner</td>\n",
       "      <td>No</td>\n",
       "      <td>Very Loud</td>\n",
       "      <td>Hipster</td>\n",
       "      <td>No</td>\n",
       "      <td>No</td>\n",
       "      <td>Yes</td>\n",
       "      <td>http://www.schwarestaurant.com</td>\n",
       "      <td>(773) 252-1466</td>\n",
       "      <td>55</td>\n",
       "    </tr>\n",
       "  </tbody>\n",
       "</table>\n",
       "<p>5 rows × 30 columns</p>\n",
       "</div>"
      ],
      "text/plain": [
       "             restaurantID        name                             location  \\\n",
       "0  pbEiXam9YJL3neCYHGwLUA      Alinea  Alinea - Lincoln Park - Chicago, IL   \n",
       "1  HOJqzz1WvOmeR9oESJ4d9A  Hot Doug's  Hot Doug's - Avondale - Chicago, IL   \n",
       "2  AkfSndWBxnTn-LpmiL8aLA         Tru  Tru - Near North Side - Chicago, IL   \n",
       "3  WBU0yq9J8qiYQfI_fh2P1Q       Crisp       Crisp - Lakeview - Chicago, IL   \n",
       "4  bNXpwTSavHBV9zBk2lUlGA       Schwa    Schwa - Wicker Park - Chicago, IL   \n",
       "\n",
       "   reviewCount  rating                          categories  \\\n",
       "0          841     4.5         Restaurants, American (New)   \n",
       "1         2122     4.5    Restaurants, Fast Food, Hot Dogs   \n",
       "2          403     4.5         Restaurants, American (New)   \n",
       "3         1026     4.0  Restaurants, Korean, Chicken Wings   \n",
       "4          288     4.5         Restaurants, American (New)   \n",
       "\n",
       "                                             address  \\\n",
       "0  1723 N Halsted St (between Willow St & Concord...   \n",
       "1  3324 N California Ave (between Henderson St & ...   \n",
       "2  676 N St. Clair St (between Erie St & Huron St...   \n",
       "3  2940 N Broadway Ave (between Oakdale Ave & Wel...   \n",
       "4  1466 N Ashland Ave (between Julian St & Le Moy...   \n",
       "\n",
       "                                               Hours GoodforKids  \\\n",
       "0      Wed-Sun 5 pm - 6:30 pm Wed-Sun 8 pm - 9:30 pm          No   \n",
       "1                            Mon-Sat 10:30 am - 4 pm         Yes   \n",
       "2  Mon-Thu 6 pm - 9:30 pm Fri 6 pm - 10 pm Sat 5 ...          No   \n",
       "3                            Tue-Sun 11:30 am - 9 pm         Yes   \n",
       "4                         Tue-Sat 5:30 pm - 10:30 pm          No   \n",
       "\n",
       "  AcceptsCreditCards  ...        GoodFor   Alcohol NoiseLevel  \\\n",
       "0                Yes  ...         Dinner  Full Bar      Quiet   \n",
       "1                 No  ...          Lunch        No    Average   \n",
       "2                Yes  ...         Dinner  Full Bar      Quiet   \n",
       "3                Yes  ...  Lunch, Dinner        No    Average   \n",
       "4                Yes  ...         Dinner        No  Very Loud   \n",
       "\n",
       "          Ambience HasTV Caters WheelchairAccessible  \\\n",
       "0  Classy, Upscale    No     No                  Yes   \n",
       "1           Casual    No     No                  Yes   \n",
       "2  Classy, Upscale    No     No                  Yes   \n",
       "3           Casual   Yes     No                  Yes   \n",
       "4          Hipster    No     No                  Yes   \n",
       "\n",
       "                           webSite     phoneNumber filReviewCount  \n",
       "0  http://www.alinearestaurant.com  (312) 867-0110            136  \n",
       "1          http://www.hotdougs.com  (773) 279-9550            234  \n",
       "2     http://www.TRUrestaurant.com  (312) 202-0001             52  \n",
       "3       http://www.crisponline.com  (773) 697-7610             99  \n",
       "4   http://www.schwarestaurant.com  (773) 252-1466             55  \n",
       "\n",
       "[5 rows x 30 columns]"
      ]
     },
     "execution_count": 13,
     "metadata": {},
     "output_type": "execute_result"
    }
   ],
   "source": [
    "res_rest_df.head()"
   ]
  },
  {
   "cell_type": "markdown",
   "metadata": {},
   "source": [
    "### Business Categories"
   ]
  },
  {
   "cell_type": "code",
   "execution_count": 63,
   "metadata": {},
   "outputs": [],
   "source": [
    "def plotDict(valuesDict, topK, fileName, title):\n",
    "    labels = list(valuesDict.keys())[0:topK]\n",
    "    values = list(valuesDict.values())[0:topK]\n",
    "#     for i in range(0, topK):\n",
    "#         print (labels[i] + \" : \" + str(values[i]))\n",
    "    fig, axes = plt.subplots(figsize=(12, 10))\n",
    "    axes.pie(values,\n",
    "            labels = labels,\n",
    "            \n",
    "            startangle=90)\n",
    "#     plt.figure(figsize=(20,20))\n",
    "    plt.title(title)\n",
    "\n",
    "    axes.axis('equal')\n",
    "    plt.savefig(fileName)\n"
   ]
  },
  {
   "cell_type": "code",
   "execution_count": 64,
   "metadata": {},
   "outputs": [],
   "source": [
    "import collections"
   ]
  },
  {
   "cell_type": "code",
   "execution_count": 68,
   "metadata": {},
   "outputs": [],
   "source": [
    "def updateCount(businessCategories, categoryCount):\n",
    "    if businessCategories is None:\n",
    "        return\n",
    "    for category in businessCategories.split(','):\n",
    "        category = category.strip().lower()\n",
    "        if category in categoryCount:\n",
    "            categoryCount[category] = categoryCount[category] + 1\n",
    "        else:\n",
    "            categoryCount[category] = 1"
   ]
  },
  {
   "cell_type": "code",
   "execution_count": 69,
   "metadata": {},
   "outputs": [
    {
     "name": "stdout",
     "output_type": "stream",
     "text": [
      "Total Number of Categories : 739\n",
      "Total Number of Businesses : 242652\n"
     ]
    },
    {
     "data": {
      "image/png": "[encoded data removed]",
      "text/plain": [
       "<Figure size 864x720 with 1 Axes>"
      ]
     },
     "metadata": {},
     "output_type": "display_data"
    }
   ],
   "source": [
    "categoryCountRes = {}\n",
    "for businessCategories in res_rest_df.categories:\n",
    "    updateCount(businessCategories, categoryCountRes)\n",
    "\n",
    "print (\"Total Number of Categories : \" + str(len(categoryCountRes)))\n",
    "print (\"Total Number of Businesses : \" + str(res_rest_df.shape[0]))\n",
    "sortedCategoryCountsResDict = collections.OrderedDict({k: v for k, v in sorted(categoryCountRes.items(), key=lambda item: item[1], reverse = True)})\n",
    "plotDict(sortedCategoryCountsResDict, 10, \"top10_restaurant_categories.png\", \"Top-10 Restaurant DB categories\\n\")\n"
   ]
  },
  {
   "cell_type": "code",
   "execution_count": 70,
   "metadata": {},
   "outputs": [
    {
     "name": "stdout",
     "output_type": "stream",
     "text": [
      "Total Number of Categories : 760\n",
      "Total Number of Businesses : 283086\n"
     ]
    },
    {
     "data": {
      "image/png": "[encoded data removed]",
      "text/plain": [
       "<Figure size 864x720 with 1 Axes>"
      ]
     },
     "metadata": {},
     "output_type": "display_data"
    }
   ],
   "source": [
    "categoryCountHotel = {}\n",
    "for businessCategories in hot_hot_df.categories:\n",
    "    updateCount(businessCategories, categoryCountHotel)\n",
    "\n",
    "print (\"Total Number of Categories : \" + str(len(categoryCountHotel)))\n",
    "print (\"Total Number of Businesses : \" + str(hot_hot_df.shape[0]))\n",
    "sortedCategoryCountsHotelDict = collections.OrderedDict({k: v for k, v in sorted(categoryCountHotel.items(), key=lambda item: item[1], reverse = True)})\n",
    "plotDict(sortedCategoryCountsHotelDict, 10, \"top10_hotel_categories.png\", \"Top-10 Hotel DB categories\\n\")"
   ]
  },
  {
   "cell_type": "markdown",
   "metadata": {},
   "source": [
    "### Most Reviewed Business Categories"
   ]
  },
  {
   "cell_type": "code",
   "execution_count": 75,
   "metadata": {},
   "outputs": [],
   "source": [
    "#Cross check this data against review count from business.json.\n",
    "def countReviews(rev_df, biz_df, dbType, key):\n",
    "    categoryToReviewCount = {}\n",
    "    counter = 0\n",
    "    for businessId, count in rev_df[key].value_counts().iteritems():\n",
    "        counter += 1\n",
    "        if counter % 100000 == 0:\n",
    "            print (counter)\n",
    "        for categories in biz_df.loc[biz_df[key] == businessId]['categories']:\n",
    "            for category in categories.split(\",\"):\n",
    "                category = category.strip().lower()\n",
    "                if category in categoryToReviewCount:\n",
    "                    categoryToReviewCount[category]  = categoryToReviewCount[category] + count\n",
    "                else:\n",
    "                    categoryToReviewCount[category] = count\n",
    "    sortedcategoryToReviewCount = collections.OrderedDict(\n",
    "        {k: v for k, v in sorted(categoryToReviewCount.items(), key=lambda item: item[1], reverse = True)})\n",
    "\n",
    "    plotDict(sortedcategoryToReviewCount, 10, \n",
    "             \"top10_business_by_reviews_\" + dbType.replace(\" \", \"_\") + \"_categories.png\", dbType.replace(\" \", \"_\") + \": Top-10 most reviewed business categories\\n\")"
   ]
  },
  {
   "cell_type": "code",
   "execution_count": null,
   "metadata": {},
   "outputs": [],
   "source": [
    "countReviews(res_rev_df, res_rest_df, \"Restaurant DB\", \"restaurantID\")"
   ]
  },
  {
   "cell_type": "code",
   "execution_count": null,
   "metadata": {},
   "outputs": [],
   "source": [
    "countReviews(hot_rev_df, hot_hot_df, \"Hotel DB\", \"hotelID\")"
   ]
  },
  {
   "cell_type": "markdown",
   "metadata": {},
   "source": [
    "### Review Star Counting\n"
   ]
  },
  {
   "cell_type": "code",
   "execution_count": 79,
   "metadata": {},
   "outputs": [],
   "source": [
    "def starCounting(rev_df, fileName, dbType):\n",
    "    starCounts = {}\n",
    "    for stars, counts in rev_df['rating'].value_counts().iteritems():\n",
    "        starCounts[stars] = counts\n",
    "\n",
    "    plt.bar(starCounts.keys(), starCounts.values(), color='b')\n",
    "    plt.title(\"Count by Star Ratings \" + dbType )\n",
    "    plt.savefig(fileName)"
   ]
  },
  {
   "cell_type": "code",
   "execution_count": 80,
   "metadata": {},
   "outputs": [
    {
     "data": {
      "image/png": "[encoded data removed]",
      "text/plain": [
       "<Figure size 432x288 with 1 Axes>"
      ]
     },
     "metadata": {
      "needs_background": "light"
     },
     "output_type": "display_data"
    }
   ],
   "source": [
    "starCounting(res_rev_df, \"star_counting_restaurant_db.png\", \"Restaurant DB\")"
   ]
  },
  {
   "cell_type": "code",
   "execution_count": 81,
   "metadata": {},
   "outputs": [
    {
     "data": {
      "image/png": "[encoded data removed]",
      "text/plain": [
       "<Figure size 432x288 with 1 Axes>"
      ]
     },
     "metadata": {
      "needs_background": "light"
     },
     "output_type": "display_data"
    }
   ],
   "source": [
    "starCounting(hot_rev_df, \"star_counting_hotel_db.png\", \"Hotel DB\")"
   ]
  },
  {
   "cell_type": "markdown",
   "metadata": {},
   "source": [
    "### Review Length Bins"
   ]
  },
  {
   "cell_type": "code",
   "execution_count": 83,
   "metadata": {},
   "outputs": [],
   "source": [
    "def reviewLengthBinning(rev_df, reviewKey, dbType):\n",
    "    plt.hist(rev_df[reviewKey].str.len(), bins = 50, color = \"skyblue\")\n",
    "    plt.xlabel(\"Review length\")\n",
    "    plt.ylabel(\"Count\")\n",
    "    plt.title(dbType + \": Review length histogram\")\n",
    "    plt.savefig(\"review_length_bins\" + dbType.replace(\" \", \"_\") + \".png\")"
   ]
  },
  {
   "cell_type": "code",
   "execution_count": 84,
   "metadata": {},
   "outputs": [
    {
     "data": {
      "image/png": "[encoded data removed]",
      "text/plain": [
       "<Figure size 432x288 with 1 Axes>"
      ]
     },
     "metadata": {
      "needs_background": "light"
     },
     "output_type": "display_data"
    }
   ],
   "source": [
    "reviewLengthBinning(res_rev_df, \"reviewContent\", \"Restaurant DB\")"
   ]
  },
  {
   "cell_type": "code",
   "execution_count": 85,
   "metadata": {},
   "outputs": [
    {
     "data": {
      "image/png": "[encoded data removed]",
      "text/plain": [
       "<Figure size 432x288 with 1 Axes>"
      ]
     },
     "metadata": {
      "needs_background": "light"
     },
     "output_type": "display_data"
    }
   ],
   "source": [
    "reviewLengthBinning(hot_rev_df, \"reviewContent\", \"Hotel DB\")"
   ]
  },
  {
   "cell_type": "code",
   "execution_count": 86,
   "metadata": {},
   "outputs": [
    {
     "name": "stdout",
     "output_type": "stream",
     "text": [
      "---------------------Restaurant DB -------------------\n",
      "Missing Review data\n",
      "\n",
      "date             0\n",
      "reviewID         0\n",
      "reviewerID       0\n",
      "reviewContent    0\n",
      "rating           0\n",
      "usefulCount      0\n",
      "coolCount        0\n",
      "funnyCount       0\n",
      "flagged          0\n",
      "restaurantID     0\n",
      "has_empty        0\n",
      "dtype: int64\n",
      "\n",
      "\n",
      "Missing Business data\n",
      "\n",
      "restaurantID                 0\n",
      "name                         0\n",
      "location                     0\n",
      "reviewCount                  0\n",
      "rating                       0\n",
      "categories                   0\n",
      "address                      0\n",
      "Hours                   136324\n",
      "GoodforKids             115638\n",
      "AcceptsCreditCards       60376\n",
      "Parking                 104533\n",
      "Attire                  133375\n",
      "GoodforGroups           126323\n",
      "PriceRange               63198\n",
      "TakesReservations       140023\n",
      "Delivery                141408\n",
      "Takeout                 137383\n",
      "WaiterService           134260\n",
      "OutdoorSeating          121369\n",
      "WiFi                    157643\n",
      "GoodFor                 153147\n",
      "Alcohol                 129946\n",
      "NoiseLevel              142290\n",
      "Ambience                176842\n",
      "HasTV                   146998\n",
      "Caters                  180566\n",
      "WheelchairAccessible    106080\n",
      "webSite                  80607\n",
      "phoneNumber              11266\n",
      "filReviewCount               0\n",
      "dtype: int64\n",
      "------------------------------------------------------\n"
     ]
    }
   ],
   "source": [
    "print(\"---------------------Restaurant DB -------------------\")\n",
    "print(\"Missing Review data\\n\")\n",
    "print(res_rev_df.isna().sum())\n",
    "print(\"\\n\\nMissing Business data\\n\")\n",
    "print(res_rest_df.isna().sum())\n",
    "print(\"------------------------------------------------------\")"
   ]
  },
  {
   "cell_type": "code",
   "execution_count": 87,
   "metadata": {},
   "outputs": [
    {
     "name": "stdout",
     "output_type": "stream",
     "text": [
      "---------------------Hotel DB -------------------\n",
      "Missing Review data\n",
      "\n",
      "date             0\n",
      "reviewID         0\n",
      "reviewerID       0\n",
      "reviewContent    0\n",
      "rating           0\n",
      "usefulCount      0\n",
      "coolCount        0\n",
      "funnyCount       0\n",
      "flagged          0\n",
      "hotelID          0\n",
      "dtype: int64\n",
      "\n",
      "\n",
      "Missing Business data\n",
      "\n",
      "hotelID                    0\n",
      "name                       0\n",
      "location                   0\n",
      "reviewCount                0\n",
      "rating                     0\n",
      "categories                 0\n",
      "address                    0\n",
      "AcceptsCreditCards     76160\n",
      "PriceRange             79426\n",
      "WiFi                  191139\n",
      "webSite                94294\n",
      "phoneNumber            14606\n",
      "filReviewCount             0\n",
      "dtype: int64\n",
      "------------------------------------------------------\n"
     ]
    }
   ],
   "source": [
    "print(\"---------------------Hotel DB -------------------\")\n",
    "print(\"Missing Review data\\n\")\n",
    "print(hot_rev_df.isna().sum())\n",
    "print(\"\\n\\nMissing Business data\\n\")\n",
    "print(hot_hot_df.isna().sum())\n",
    "print(\"------------------------------------------------------\")"
   ]
  },
  {
   "cell_type": "code",
   "execution_count": null,
   "metadata": {},
   "outputs": [],
   "source": []
  }
 ],
 "metadata": {
  "kernelspec": {
   "display_name": "Python 3",
   "language": "python",
   "name": "python3"
  },
  "language_info": {
   "codemirror_mode": {
    "name": "ipython",
    "version": 3
   },
   "file_extension": ".py",
   "mimetype": "text/x-python",
   "name": "python",
   "nbconvert_exporter": "python",
   "pygments_lexer": "ipython3",
   "version": "3.7.3"
  }
 },
 "nbformat": 4,
 "nbformat_minor": 2
}
