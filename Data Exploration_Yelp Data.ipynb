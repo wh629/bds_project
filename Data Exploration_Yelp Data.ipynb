{
 "cells": [
  {
   "cell_type": "code",
   "execution_count": 39,
   "metadata": {},
   "outputs": [],
   "source": [
    "import pandas as pd\n",
    "import tqdm\n",
    "import matplotlib.pyplot as plt"
   ]
  },
  {
   "cell_type": "markdown",
   "metadata": {},
   "source": [
    "## Import Yelp Data"
   ]
  },
  {
   "cell_type": "code",
   "execution_count": 160,
   "metadata": {},
   "outputs": [],
   "source": [
    "local = True"
   ]
  },
  {
   "cell_type": "code",
   "execution_count": 6,
   "metadata": {},
   "outputs": [
    {
     "name": "stdout",
     "output_type": "stream",
     "text": [
      "business json attributes:  ['business_id', 'name', 'address', 'city', 'state', 'postal_code', 'latitude', 'longitude', 'stars', 'review_count', 'is_open', 'attributes', 'categories', 'hours']\n",
      "review json attributes:  ['review_id', 'user_id', 'business_id', 'stars', 'useful', 'funny', 'cool', 'text', 'date']\n"
     ]
    }
   ],
   "source": [
    "data_path = \"../yelp_dataset/yelp_academic_dataset_\"\n",
    "\n",
    "business_fname = data_path + 'business.json'\n",
    "# checkin_fname = data_path + 'checkin.json'\n",
    "# photo_fname = data_path + 'photo.json'\n",
    "if local:\n",
    "    review_fname = data_path + 'review_short.json'\n",
    "else:\n",
    "    review_fname = data_path + 'review.json'\n",
    "# tip_fname = data_path + 'tip.json'\n",
    "# user_fname = data_path + 'user.json'\n",
    "\n",
    "biz_df = pd.read_json(business_fname, lines=True)\n",
    "print(\"business json attributes: \", list(biz_df.columns.values))\n",
    "\n",
    "# ci_df = pd.read_json(checkin_fname, lines=True)\n",
    "# print(\"checkin json attributes: \", list(ci_df.columns.values))\n",
    "\n",
    "# ph_df = pd.read_json(photo_fname, lines=True)\n",
    "# print(\"photo json attributes: \", list(ph_df.columns.values))\n",
    "\n",
    "rev_df = pd.read_json(review_fname, lines=True)\n",
    "print(\"review json attributes: \", list(rev_df.columns.values))\n",
    "\n",
    "# tip_df = pd.read_json(tip_fname, lines=True)\n",
    "# print(\"tip json attributes: \", list(tip_df.columns.values))\n",
    "\n",
    "# use_df = pd.read_json(user_fname, lines=True)\n",
    "# print(\"user json attributes: \", list(use_df.columns.values))"
   ]
  },
  {
   "cell_type": "markdown",
   "metadata": {},
   "source": [
    "## Find Number of Empty Entries"
   ]
  },
  {
   "cell_type": "code",
   "execution_count": 7,
   "metadata": {},
   "outputs": [
    {
     "name": "stdout",
     "output_type": "stream",
     "text": [
      "business empty entries:  business_id         0\n",
      "name                0\n",
      "address             0\n",
      "city                0\n",
      "state               0\n",
      "postal_code         0\n",
      "latitude            0\n",
      "longitude           0\n",
      "stars               0\n",
      "review_count        0\n",
      "is_open             0\n",
      "attributes      29045\n",
      "categories        524\n",
      "hours           44843\n",
      "dtype: int64\n",
      "review empty entries:  review_id      0\n",
      "user_id        0\n",
      "business_id    0\n",
      "stars          0\n",
      "useful         0\n",
      "funny          0\n",
      "cool           0\n",
      "text           0\n",
      "date           0\n",
      "dtype: int64\n"
     ]
    }
   ],
   "source": [
    "print(\"business empty entries: \", biz_df.isna().sum(axis=0))\n",
    "print(\"review empty entries: \", rev_df.isna().sum(axis=0))\n",
    "\n",
    "# print(\"checkin empty entries: \", ci_df.isna().sum(axis=0))\n",
    "# print(\"photo empty entries: \", ph_df.isna().sum(axis=0))\n",
    "# print(\"tip empty entries: \", tip_df.isna().sum(axis=0))\n",
    "# print(\"user empty entries: \", use_df.isna().sum(axis=0))"
   ]
  },
  {
   "cell_type": "markdown",
   "metadata": {},
   "source": [
    "## Sizes"
   ]
  },
  {
   "cell_type": "code",
   "execution_count": 8,
   "metadata": {},
   "outputs": [
    {
     "name": "stdout",
     "output_type": "stream",
     "text": [
      "business size:  (209393, 14)\n",
      "review size:  (100, 9)\n"
     ]
    }
   ],
   "source": [
    "print(\"business size: \", biz_df.shape)\n",
    "print(\"review size: \", rev_df.shape)\n",
    "\n",
    "# print(\"checkin size: \", ci_df.shape)\n",
    "# print(\"photo size: \", ph_df.shape)\n",
    "\n",
    "# print(\"tip size: \", tip_df.shape)\n",
    "# print(\"user size: \", use_df.shape)"
   ]
  },
  {
   "cell_type": "markdown",
   "metadata": {},
   "source": [
    "## Set If Restaurant"
   ]
  },
  {
   "cell_type": "code",
   "execution_count": 9,
   "metadata": {},
   "outputs": [],
   "source": [
    "biz_df['is_restaurant'] = (biz_df.loc[:,'categories'].where(biz_df.loc[:,'categories']\\\n",
    "                                                                 .str.contains('Restaurant')).isna()==False)"
   ]
  },
  {
   "cell_type": "code",
   "execution_count": 10,
   "metadata": {},
   "outputs": [
    {
     "name": "stdout",
     "output_type": "stream",
     "text": [
      "0         Active Life, Gun/Rifle Ranges, Guns & Ammo, Sh...\n",
      "1         Health & Medical, Fitness & Instruction, Yoga,...\n",
      "2                          Pets, Pet Services, Pet Groomers\n",
      "3         Hardware Stores, Home Services, Building Suppl...\n",
      "4         Home Services, Plumbing, Electricians, Handyma...\n",
      "                                ...                        \n",
      "209386    Contractors, Local Services, Appliances & Repa...\n",
      "209387          Shopping, Fashion, Accessories, Shoe Stores\n",
      "209389    Department Stores, Food, Mobile Phones, Fashio...\n",
      "209391                     Pet Services, Pet Training, Pets\n",
      "209392    Tax Services, Professional Services, Accountan...\n",
      "Name: categories, Length: 145432, dtype: object\n"
     ]
    }
   ],
   "source": [
    "print(biz_df.loc[biz_df.loc[:,'is_restaurant']==False,'categories'])"
   ]
  },
  {
   "cell_type": "code",
   "execution_count": 12,
   "metadata": {},
   "outputs": [
    {
     "data": {
      "text/html": [
       "<div>\n",
       "<style scoped>\n",
       "    .dataframe tbody tr th:only-of-type {\n",
       "        vertical-align: middle;\n",
       "    }\n",
       "\n",
       "    .dataframe tbody tr th {\n",
       "        vertical-align: top;\n",
       "    }\n",
       "\n",
       "    .dataframe thead th {\n",
       "        text-align: right;\n",
       "    }\n",
       "</style>\n",
       "<table border=\"1\" class=\"dataframe\">\n",
       "  <thead>\n",
       "    <tr style=\"text-align: right;\">\n",
       "      <th></th>\n",
       "      <th>business_id</th>\n",
       "      <th>name</th>\n",
       "      <th>address</th>\n",
       "      <th>city</th>\n",
       "      <th>state</th>\n",
       "      <th>postal_code</th>\n",
       "      <th>latitude</th>\n",
       "      <th>longitude</th>\n",
       "      <th>stars</th>\n",
       "      <th>review_count</th>\n",
       "      <th>is_open</th>\n",
       "      <th>attributes</th>\n",
       "      <th>categories</th>\n",
       "      <th>hours</th>\n",
       "      <th>is_restaurant</th>\n",
       "    </tr>\n",
       "  </thead>\n",
       "  <tbody>\n",
       "    <tr>\n",
       "      <th>0</th>\n",
       "      <td>f9NumwFMBDn751xgFiRbNA</td>\n",
       "      <td>The Range At Lake Norman</td>\n",
       "      <td>10913 Bailey Rd</td>\n",
       "      <td>Cornelius</td>\n",
       "      <td>NC</td>\n",
       "      <td>28031</td>\n",
       "      <td>35.462724</td>\n",
       "      <td>-80.852612</td>\n",
       "      <td>3.5</td>\n",
       "      <td>36</td>\n",
       "      <td>1</td>\n",
       "      <td>{'BusinessAcceptsCreditCards': 'True', 'BikePa...</td>\n",
       "      <td>Active Life, Gun/Rifle Ranges, Guns &amp; Ammo, Sh...</td>\n",
       "      <td>{'Monday': '10:0-18:0', 'Tuesday': '11:0-20:0'...</td>\n",
       "      <td>False</td>\n",
       "    </tr>\n",
       "    <tr>\n",
       "      <th>1</th>\n",
       "      <td>Yzvjg0SayhoZgCljUJRF9Q</td>\n",
       "      <td>Carlos Santo, NMD</td>\n",
       "      <td>8880 E Via Linda, Ste 107</td>\n",
       "      <td>Scottsdale</td>\n",
       "      <td>AZ</td>\n",
       "      <td>85258</td>\n",
       "      <td>33.569404</td>\n",
       "      <td>-111.890264</td>\n",
       "      <td>5.0</td>\n",
       "      <td>4</td>\n",
       "      <td>1</td>\n",
       "      <td>{'GoodForKids': 'True', 'ByAppointmentOnly': '...</td>\n",
       "      <td>Health &amp; Medical, Fitness &amp; Instruction, Yoga,...</td>\n",
       "      <td>None</td>\n",
       "      <td>False</td>\n",
       "    </tr>\n",
       "    <tr>\n",
       "      <th>2</th>\n",
       "      <td>XNoUzKckATkOD1hP6vghZg</td>\n",
       "      <td>Felinus</td>\n",
       "      <td>3554 Rue Notre-Dame O</td>\n",
       "      <td>Montreal</td>\n",
       "      <td>QC</td>\n",
       "      <td>H4C 1P4</td>\n",
       "      <td>45.479984</td>\n",
       "      <td>-73.580070</td>\n",
       "      <td>5.0</td>\n",
       "      <td>5</td>\n",
       "      <td>1</td>\n",
       "      <td>None</td>\n",
       "      <td>Pets, Pet Services, Pet Groomers</td>\n",
       "      <td>None</td>\n",
       "      <td>False</td>\n",
       "    </tr>\n",
       "    <tr>\n",
       "      <th>3</th>\n",
       "      <td>6OAZjbxqM5ol29BuHsil3w</td>\n",
       "      <td>Nevada House of Hose</td>\n",
       "      <td>1015 Sharp Cir</td>\n",
       "      <td>North Las Vegas</td>\n",
       "      <td>NV</td>\n",
       "      <td>89030</td>\n",
       "      <td>36.219728</td>\n",
       "      <td>-115.127725</td>\n",
       "      <td>2.5</td>\n",
       "      <td>3</td>\n",
       "      <td>0</td>\n",
       "      <td>{'BusinessAcceptsCreditCards': 'True', 'ByAppo...</td>\n",
       "      <td>Hardware Stores, Home Services, Building Suppl...</td>\n",
       "      <td>{'Monday': '7:0-16:0', 'Tuesday': '7:0-16:0', ...</td>\n",
       "      <td>False</td>\n",
       "    </tr>\n",
       "    <tr>\n",
       "      <th>4</th>\n",
       "      <td>51M2Kk903DFYI6gnB5I6SQ</td>\n",
       "      <td>USE MY GUY SERVICES LLC</td>\n",
       "      <td>4827 E Downing Cir</td>\n",
       "      <td>Mesa</td>\n",
       "      <td>AZ</td>\n",
       "      <td>85205</td>\n",
       "      <td>33.428065</td>\n",
       "      <td>-111.726648</td>\n",
       "      <td>4.5</td>\n",
       "      <td>26</td>\n",
       "      <td>1</td>\n",
       "      <td>{'BusinessAcceptsCreditCards': 'True', 'ByAppo...</td>\n",
       "      <td>Home Services, Plumbing, Electricians, Handyma...</td>\n",
       "      <td>{'Monday': '0:0-0:0', 'Tuesday': '9:0-16:0', '...</td>\n",
       "      <td>False</td>\n",
       "    </tr>\n",
       "  </tbody>\n",
       "</table>\n",
       "</div>"
      ],
      "text/plain": [
       "              business_id                      name  \\\n",
       "0  f9NumwFMBDn751xgFiRbNA  The Range At Lake Norman   \n",
       "1  Yzvjg0SayhoZgCljUJRF9Q         Carlos Santo, NMD   \n",
       "2  XNoUzKckATkOD1hP6vghZg                   Felinus   \n",
       "3  6OAZjbxqM5ol29BuHsil3w      Nevada House of Hose   \n",
       "4  51M2Kk903DFYI6gnB5I6SQ   USE MY GUY SERVICES LLC   \n",
       "\n",
       "                     address             city state postal_code   latitude  \\\n",
       "0            10913 Bailey Rd        Cornelius    NC       28031  35.462724   \n",
       "1  8880 E Via Linda, Ste 107       Scottsdale    AZ       85258  33.569404   \n",
       "2      3554 Rue Notre-Dame O         Montreal    QC     H4C 1P4  45.479984   \n",
       "3             1015 Sharp Cir  North Las Vegas    NV       89030  36.219728   \n",
       "4         4827 E Downing Cir             Mesa    AZ       85205  33.428065   \n",
       "\n",
       "    longitude  stars  review_count  is_open  \\\n",
       "0  -80.852612    3.5            36        1   \n",
       "1 -111.890264    5.0             4        1   \n",
       "2  -73.580070    5.0             5        1   \n",
       "3 -115.127725    2.5             3        0   \n",
       "4 -111.726648    4.5            26        1   \n",
       "\n",
       "                                          attributes  \\\n",
       "0  {'BusinessAcceptsCreditCards': 'True', 'BikePa...   \n",
       "1  {'GoodForKids': 'True', 'ByAppointmentOnly': '...   \n",
       "2                                               None   \n",
       "3  {'BusinessAcceptsCreditCards': 'True', 'ByAppo...   \n",
       "4  {'BusinessAcceptsCreditCards': 'True', 'ByAppo...   \n",
       "\n",
       "                                          categories  \\\n",
       "0  Active Life, Gun/Rifle Ranges, Guns & Ammo, Sh...   \n",
       "1  Health & Medical, Fitness & Instruction, Yoga,...   \n",
       "2                   Pets, Pet Services, Pet Groomers   \n",
       "3  Hardware Stores, Home Services, Building Suppl...   \n",
       "4  Home Services, Plumbing, Electricians, Handyma...   \n",
       "\n",
       "                                               hours  is_restaurant  \n",
       "0  {'Monday': '10:0-18:0', 'Tuesday': '11:0-20:0'...          False  \n",
       "1                                               None          False  \n",
       "2                                               None          False  \n",
       "3  {'Monday': '7:0-16:0', 'Tuesday': '7:0-16:0', ...          False  \n",
       "4  {'Monday': '0:0-0:0', 'Tuesday': '9:0-16:0', '...          False  "
      ]
     },
     "execution_count": 12,
     "metadata": {},
     "output_type": "execute_result"
    }
   ],
   "source": [
    "biz_df.head()\n"
   ]
  },
  {
   "cell_type": "code",
   "execution_count": 13,
   "metadata": {},
   "outputs": [
    {
     "data": {
      "text/html": [
       "<div>\n",
       "<style scoped>\n",
       "    .dataframe tbody tr th:only-of-type {\n",
       "        vertical-align: middle;\n",
       "    }\n",
       "\n",
       "    .dataframe tbody tr th {\n",
       "        vertical-align: top;\n",
       "    }\n",
       "\n",
       "    .dataframe thead th {\n",
       "        text-align: right;\n",
       "    }\n",
       "</style>\n",
       "<table border=\"1\" class=\"dataframe\">\n",
       "  <thead>\n",
       "    <tr style=\"text-align: right;\">\n",
       "      <th></th>\n",
       "      <th>review_id</th>\n",
       "      <th>user_id</th>\n",
       "      <th>business_id</th>\n",
       "      <th>stars</th>\n",
       "      <th>useful</th>\n",
       "      <th>funny</th>\n",
       "      <th>cool</th>\n",
       "      <th>text</th>\n",
       "      <th>date</th>\n",
       "    </tr>\n",
       "  </thead>\n",
       "  <tbody>\n",
       "    <tr>\n",
       "      <th>0</th>\n",
       "      <td>WGRnCaMf6uV3asVnGc_pfA</td>\n",
       "      <td>lKPUyA6DveoWk-3zFrHA9w</td>\n",
       "      <td>Cuk-snnYHmx6bnTgwXEOzQ</td>\n",
       "      <td>2</td>\n",
       "      <td>14</td>\n",
       "      <td>5</td>\n",
       "      <td>1</td>\n",
       "      <td>Very friendly teachers and staff, but definite...</td>\n",
       "      <td>2012-08-23 01:32:38</td>\n",
       "    </tr>\n",
       "    <tr>\n",
       "      <th>1</th>\n",
       "      <td>a188QhKGCNPvLKNV1PNmPA</td>\n",
       "      <td>--UOvCH5qEgdNQ8lzR8QYQ</td>\n",
       "      <td>WmiQBcRXlCMWJ0QJpO1FIw</td>\n",
       "      <td>4</td>\n",
       "      <td>6</td>\n",
       "      <td>1</td>\n",
       "      <td>4</td>\n",
       "      <td>They focus on drinks and desserts containing m...</td>\n",
       "      <td>2019-11-01 16:32:35</td>\n",
       "    </tr>\n",
       "    <tr>\n",
       "      <th>2</th>\n",
       "      <td>n_ZcSVfiKlWLrfmG41s65A</td>\n",
       "      <td>tzvSwlqFkBsZms7LGmzL4Q</td>\n",
       "      <td>Ssa6XY_RdDRRB9wuVIeIWw</td>\n",
       "      <td>5</td>\n",
       "      <td>0</td>\n",
       "      <td>0</td>\n",
       "      <td>0</td>\n",
       "      <td>We live in downtown and love the food/service ...</td>\n",
       "      <td>2019-11-16 02:00:30</td>\n",
       "    </tr>\n",
       "    <tr>\n",
       "      <th>3</th>\n",
       "      <td>ZhUeFHPAjUbEKRnYO_pl_w</td>\n",
       "      <td>WS-GsWbN4ltzigWl01t8Xw</td>\n",
       "      <td>o_dWM_hlpgjjd7F15UPjZw</td>\n",
       "      <td>3</td>\n",
       "      <td>0</td>\n",
       "      <td>0</td>\n",
       "      <td>0</td>\n",
       "      <td>First let me say Lindys in Columbus is one of ...</td>\n",
       "      <td>2019-11-16 14:37:10</td>\n",
       "    </tr>\n",
       "    <tr>\n",
       "      <th>4</th>\n",
       "      <td>82HIy7Qx5drfB7QS7sXMVg</td>\n",
       "      <td>YlOaRF1YpOdvUtm4foQlaQ</td>\n",
       "      <td>umXvdus9LbC6oxtLdXelFQ</td>\n",
       "      <td>5</td>\n",
       "      <td>2</td>\n",
       "      <td>0</td>\n",
       "      <td>1</td>\n",
       "      <td>Amazing place to experience the art of dessert...</td>\n",
       "      <td>2019-11-05 06:13:05</td>\n",
       "    </tr>\n",
       "  </tbody>\n",
       "</table>\n",
       "</div>"
      ],
      "text/plain": [
       "                review_id                 user_id             business_id  \\\n",
       "0  WGRnCaMf6uV3asVnGc_pfA  lKPUyA6DveoWk-3zFrHA9w  Cuk-snnYHmx6bnTgwXEOzQ   \n",
       "1  a188QhKGCNPvLKNV1PNmPA  --UOvCH5qEgdNQ8lzR8QYQ  WmiQBcRXlCMWJ0QJpO1FIw   \n",
       "2  n_ZcSVfiKlWLrfmG41s65A  tzvSwlqFkBsZms7LGmzL4Q  Ssa6XY_RdDRRB9wuVIeIWw   \n",
       "3  ZhUeFHPAjUbEKRnYO_pl_w  WS-GsWbN4ltzigWl01t8Xw  o_dWM_hlpgjjd7F15UPjZw   \n",
       "4  82HIy7Qx5drfB7QS7sXMVg  YlOaRF1YpOdvUtm4foQlaQ  umXvdus9LbC6oxtLdXelFQ   \n",
       "\n",
       "   stars  useful  funny  cool  \\\n",
       "0      2      14      5     1   \n",
       "1      4       6      1     4   \n",
       "2      5       0      0     0   \n",
       "3      3       0      0     0   \n",
       "4      5       2      0     1   \n",
       "\n",
       "                                                text                date  \n",
       "0  Very friendly teachers and staff, but definite... 2012-08-23 01:32:38  \n",
       "1  They focus on drinks and desserts containing m... 2019-11-01 16:32:35  \n",
       "2  We live in downtown and love the food/service ... 2019-11-16 02:00:30  \n",
       "3  First let me say Lindys in Columbus is one of ... 2019-11-16 14:37:10  \n",
       "4  Amazing place to experience the art of dessert... 2019-11-05 06:13:05  "
      ]
     },
     "execution_count": 13,
     "metadata": {},
     "output_type": "execute_result"
    }
   ],
   "source": [
    "rev_df.head()"
   ]
  },
  {
   "cell_type": "markdown",
   "metadata": {},
   "source": [
    "### Business Categories"
   ]
  },
  {
   "cell_type": "code",
   "execution_count": 117,
   "metadata": {},
   "outputs": [],
   "source": [
    "def plotDict(valuesDict, topK, fileName, title):\n",
    "    labels = list(valuesDict.keys())[0:topK]\n",
    "    values = list(valuesDict.values())[0:topK]\n",
    "\n",
    "    fig, axes = plt.subplots(figsize=(12, 10))\n",
    "    axes.pie(values,\n",
    "            labels = labels,\n",
    "            \n",
    "            startangle=90)\n",
    "#     plt.figsize=(20, 20)\n",
    "    \n",
    "    plt.title(title)\n",
    "\n",
    "    axes.axis('equal')\n",
    "    plt.savefig(fileName)\n"
   ]
  },
  {
   "cell_type": "code",
   "execution_count": 113,
   "metadata": {},
   "outputs": [],
   "source": [
    "import collections"
   ]
  },
  {
   "cell_type": "code",
   "execution_count": 114,
   "metadata": {},
   "outputs": [
    {
     "name": "stdout",
     "output_type": "stream",
     "text": [
      "Total Number of Categories : 1336\n",
      "Total Number of Businesses : 209393\n"
     ]
    },
    {
     "data": {
      "image/png": "[encoded data removed]",
      "text/plain": [
       "<Figure size 432x288 with 1 Axes>"
      ]
     },
     "metadata": {},
     "output_type": "display_data"
    }
   ],
   "source": [
    "categoryCount = {}\n",
    "\n",
    "for businessCategories in biz_df.categories:\n",
    "    if businessCategories is None:\n",
    "        continue\n",
    "    for category in businessCategories.split(','):\n",
    "        category = category.strip().lower()\n",
    "        if category in categoryCount:\n",
    "            categoryCount[category] = categoryCount[category] + 1\n",
    "        else:\n",
    "            categoryCount[category] = 1\n",
    "            \n",
    "print (\"Total Number of Categories : \" + str(len(categoryCount)))\n",
    "print (\"Total Number of Businesses : \" + str(biz_df.shape[0]))\n",
    "sortedCategoryCountsDict = collections.OrderedDict({k: v for k, v in sorted(categoryCount.items(), key=lambda item: item[1], reverse = True)})\n",
    "plotDict(sortedCategoryCountsDict, 10, \"top10_business_categories.png\", \"Top-10 Business categories\\n\")"
   ]
  },
  {
   "cell_type": "markdown",
   "metadata": {},
   "source": [
    "### Most Reviewed Business Categories "
   ]
  },
  {
   "cell_type": "code",
   "execution_count": 167,
   "metadata": {},
   "outputs": [],
   "source": [
    "def updateCount(businessCategories, categoryCount, count):\n",
    "    if businessCategories is None:\n",
    "        return\n",
    "    if review_count == 0:\n",
    "        return\n",
    "    for category in businessCategories.split(','):\n",
    "        category = category.strip().lower()\n",
    "        if category in categoryCount:\n",
    "            categoryCount[category] = categoryCount[category] + count\n",
    "        else:\n",
    "            categoryCount[category] = count"
   ]
  },
  {
   "cell_type": "code",
   "execution_count": 168,
   "metadata": {
    "scrolled": true
   },
   "outputs": [
    {
     "data": {
      "image/png": "[encoded data removed]",
      "text/plain": [
       "<Figure size 432x288 with 1 Axes>"
      ]
     },
     "metadata": {},
     "output_type": "display_data"
    }
   ],
   "source": [
    "#Cross check this data against review count from business.json.\n",
    "\n",
    "# categoryToReviewCount = {}\n",
    "# for businessId, count in rev_df['business_id'].value_counts().iteritems():\n",
    "\n",
    "#     for categories in biz_df.loc[biz_df['business_id'] == businessId]['categories']:\n",
    "#         if categories is None:\n",
    "#             continue\n",
    "#         for category in categories.split(\",\"):\n",
    "#             if category is None:\n",
    "#                 continue\n",
    "#             category = category.strip().lower()\n",
    "#             if category in categoryToReviewCount:\n",
    "#                 categoryToReviewCount[category]  = categoryToReviewCount[category] + count\n",
    "#             else:\n",
    "#                 categoryToReviewCount[category] = count\n",
    "# sortedcategoryToReviewCount = collections.OrderedDict(\n",
    "#     {k: v for k, v in sorted(categoryToReviewCount.items(), key=lambda item: item[1], reverse = True)})\n",
    "\n",
    "# plotDict(sortedcategoryToReviewCount, 10, \n",
    "#          \"top10_business_by_reviews_categories.png\", \"Top-10 most reviewed business categories\\n\")\n",
    "\n",
    "\n",
    "categoryReviewCounting = {}\n",
    "\n",
    "for i in range (0, biz_df.shape[0]):\n",
    "    row = biz_df.iloc[i]\n",
    "    updateCount(row['categories'], categoryReviewCounting , row['review_count'])\n",
    "\n",
    "sortedcategoryToReviewCount = collections.OrderedDict(\n",
    "    {k: v for k, v in sorted(categoryReviewCounting.items(), key=lambda item: item[1], reverse = True)})\n",
    "\n",
    "plotDict(sortedcategoryToReviewCount, 10, \n",
    "         \"top10_business_by_reviews_categories.png\", \"Top-10 most reviewed business categories\\n\")"
   ]
  },
  {
   "cell_type": "markdown",
   "metadata": {},
   "source": [
    "### Review Star Counting"
   ]
  },
  {
   "cell_type": "code",
   "execution_count": 127,
   "metadata": {},
   "outputs": [
    {
     "data": {
      "image/png": "[encoded data removed]",
      "text/plain": [
       "<Figure size 432x288 with 1 Axes>"
      ]
     },
     "metadata": {
      "needs_background": "light"
     },
     "output_type": "display_data"
    }
   ],
   "source": [
    "starCounts = {}\n",
    "for stars, counts in rev_df['stars'].value_counts().iteritems():\n",
    "    starCounts[stars] = counts\n",
    "\n",
    "plt.bar(starCounts.keys(), starCounts.values(), color='b')\n",
    "plt.title(\"Count by Star Ratings\")\n",
    "plt.savefig(\"starCount.png\")"
   ]
  },
  {
   "cell_type": "markdown",
   "metadata": {},
   "source": [
    "### Review Length Bins"
   ]
  },
  {
   "cell_type": "code",
   "execution_count": 145,
   "metadata": {},
   "outputs": [
    {
     "data": {
      "image/png": "[encoded data removed]",
      "text/plain": [
       "<Figure size 432x288 with 1 Axes>"
      ]
     },
     "metadata": {
      "needs_background": "light"
     },
     "output_type": "display_data"
    }
   ],
   "source": [
    "plt.hist(rev_df['text'].str.len(), bins = 50, color = \"skyblue\")\n",
    "plt.xlabel(\"Review length\")\n",
    "plt.ylabel(\"Count\")\n",
    "plt.title(\"Review length histogram\")\n",
    "plt.savefig(\"review_length_bins.png\")"
   ]
  },
  {
   "cell_type": "markdown",
   "metadata": {},
   "source": [
    "### Missing Review Data"
   ]
  },
  {
   "cell_type": "code",
   "execution_count": 154,
   "metadata": {},
   "outputs": [
    {
     "name": "stdout",
     "output_type": "stream",
     "text": [
      "Missing Review data\n",
      "\n",
      "review_id      0\n",
      "user_id        0\n",
      "business_id    0\n",
      "stars          0\n",
      "useful         0\n",
      "funny          0\n",
      "cool           0\n",
      "text           0\n",
      "date           0\n",
      "dtype: int64\n",
      "\n",
      "\n",
      "Missing Business data\n",
      "\n",
      "business_id          0\n",
      "name                 0\n",
      "address              0\n",
      "city                 0\n",
      "state                0\n",
      "postal_code          0\n",
      "latitude             0\n",
      "longitude            0\n",
      "stars                0\n",
      "review_count         0\n",
      "is_open              0\n",
      "attributes       29045\n",
      "categories         524\n",
      "hours            44843\n",
      "is_restaurant        0\n",
      "dtype: int64\n"
     ]
    }
   ],
   "source": [
    "print(\"Missing Review data\\n\")\n",
    "print(rev_df.isna().sum())\n",
    "print(\"\\n\\nMissing Business data\\n\")\n",
    "print(biz_df.isna().sum())\n"
   ]
  },
  {
   "cell_type": "markdown",
   "metadata": {},
   "source": [
    "## Summarize statistics"
   ]
  },
  {
   "cell_type": "code",
   "execution_count": 7,
   "metadata": {},
   "outputs": [
    {
     "data": {
      "application/vnd.jupyter.widget-view+json": {
       "model_id": "75f33e7e02064448acf3c09a06901e3e",
       "version_major": 2,
       "version_minor": 0
      },
      "text/plain": [
       "HBox(children=(IntProgress(value=0, max=2), HTML(value='')))"
      ]
     },
     "metadata": {},
     "output_type": "display_data"
    },
    {
     "name": "stdout",
     "output_type": "stream",
     "text": [
      "review_count\n",
      "stars\n",
      "\n"
     ]
    },
    {
     "data": {
      "application/vnd.jupyter.widget-view+json": {
       "model_id": "528d04c14eeb4ab9badd75f3e0c327a7",
       "version_major": 2,
       "version_minor": 0
      },
      "text/plain": [
       "HBox(children=(IntProgress(value=0, max=4), HTML(value='')))"
      ]
     },
     "metadata": {},
     "output_type": "display_data"
    },
    {
     "name": "stdout",
     "output_type": "stream",
     "text": [
      "cool\n",
      "funny\n",
      "stars\n",
      "useful\n",
      "\n"
     ]
    },
    {
     "data": {
      "application/vnd.jupyter.widget-view+json": {
       "model_id": "4a7bbae3a49f44759965babf0acc346c",
       "version_major": 2,
       "version_minor": 0
      },
      "text/plain": [
       "HBox(children=(IntProgress(value=0, max=17), HTML(value='')))"
      ]
     },
     "metadata": {},
     "output_type": "display_data"
    },
    {
     "name": "stdout",
     "output_type": "stream",
     "text": [
      "average_stars\n",
      "compliment_cool\n",
      "compliment_cute\n",
      "compliment_funny\n",
      "compliment_hot\n",
      "compliment_list\n",
      "compliment_more\n",
      "compliment_note\n",
      "compliment_photos\n",
      "compliment_plain\n",
      "compliment_profile\n",
      "compliment_writer\n",
      "cool\n",
      "fans\n",
      "funny\n",
      "review_count\n",
      "useful\n",
      "\n"
     ]
    }
   ],
   "source": [
    "# stats_index = ['Mean', 'Median', '1Q', '3Q', 'Std', 'Min', 'Max']\n",
    "\n",
    "# biz_cols = ['review_count', 'stars']\n",
    "# rev_cols = ['cool', 'funny', 'stars', 'useful']\n",
    "# use_cols =  ['average_stars', 'compliment_cool', 'compliment_cute', 'compliment_funny', 'compliment_hot', 'compliment_list', 'compliment_more', 'compliment_note', 'compliment_photos', 'compliment_plain', 'compliment_profile', 'compliment_writer', 'cool', 'fans', 'funny', 'review_count', 'useful']\n",
    "\n",
    "# biz_stats = pd.DataFrame(index = stats_index, columns = biz_cols)\n",
    "# rev_stats = pd.DataFrame(index = stats_index, columns = rev_cols)\n",
    "# use_stats = pd.DataFrame(index = stats_index, columns = use_cols)\n",
    "\n",
    "# stats = [biz_stats, rev_stats, use_stats]\n",
    "# dfs = [biz_df, rev_df, use_df]\n",
    "\n",
    "# for i, stat in enumerate(stats):\n",
    "#     temp = dfs[i]\n",
    "#     for col in tqdm.tqdm_notebook(list(stat.columns.values)):\n",
    "#         print(col)\n",
    "#         stat.loc['Mean',col] = temp.loc[:,col].mean()\n",
    "#         # stat.loc['Mode',col] = temp.loc[:,col].mode(dropna=True)\n",
    "#         stat.loc['Median',col] = temp.loc[:,col].median()        \n",
    "#         stat.loc['1Q',col] = temp.loc[:,col].quantile(q=0.25)\n",
    "#         stat.loc['3Q',col] = temp.loc[:,col].quantile(q=0.75)\n",
    "#         stat.loc['Std',col] = temp.loc[:,col].std()\n",
    "#         stat.loc['Min',col] = temp.loc[:,col].min()\n",
    "#         stat.loc['Max',col] = temp.loc[:,col].max()"
   ]
  },
  {
   "cell_type": "code",
   "execution_count": 8,
   "metadata": {},
   "outputs": [],
   "source": [
    "# overview_cols = ['Number of Entries', 'Number of Incomplete', 'Number Attributes', 'Attributes']\n",
    "# overview_inds = ['business', 'checkin', 'photo', 'review', 'tip', 'user']\n",
    "# overview_dfs = [biz_df, ci_df, ph_df, rev_df, tip_df, use_df]\n",
    "\n",
    "# overview = pd.DataFrame(index = overview_inds, columns = overview_cols)\n",
    "\n",
    "# for i, df in enumerate(overview_dfs):\n",
    "#     overview.iloc[i,0] = df.shape[0]\n",
    "#     overview.iloc[i,1] = sum(df.isna().sum(axis=1)>0)\n",
    "#     overview.iloc[i,2] = df.shape[1]\n",
    "#     overview.iloc[i,3] = list(df.columns.values)"
   ]
  },
  {
   "cell_type": "code",
   "execution_count": 9,
   "metadata": {},
   "outputs": [
    {
     "data": {
      "text/plain": [
       "59387"
      ]
     },
     "execution_count": 9,
     "metadata": {},
     "output_type": "execute_result"
    }
   ],
   "source": [
    "# biz_df.loc[:,'is_restaurant'].sum()"
   ]
  },
  {
   "cell_type": "code",
   "execution_count": 10,
   "metadata": {},
   "outputs": [
    {
     "data": {
      "text/plain": [
       "15273"
      ]
     },
     "execution_count": 10,
     "metadata": {},
     "output_type": "execute_result"
    }
   ],
   "source": [
    "# sum(biz_df.loc[biz_df.loc[:,'is_restaurant'],:].isna().sum(axis=1)>0)"
   ]
  },
  {
   "cell_type": "code",
   "execution_count": 1,
   "metadata": {},
   "outputs": [
    {
     "ename": "NameError",
     "evalue": "name 'rev_df' is not defined",
     "output_type": "error",
     "traceback": [
      "\u001b[1;31m---------------------------------------------------------------------------\u001b[0m",
      "\u001b[1;31mNameError\u001b[0m                                 Traceback (most recent call last)",
      "\u001b[1;32m<ipython-input-1-6d4cac7a7687>\u001b[0m in \u001b[0;36m<module>\u001b[1;34m\u001b[0m\n\u001b[1;32m----> 1\u001b[1;33m \u001b[0mrev_df\u001b[0m\u001b[1;33m.\u001b[0m\u001b[0mjoin\u001b[0m\u001b[1;33m(\u001b[0m\u001b[0mbiz_df\u001b[0m\u001b[1;33m[\u001b[0m\u001b[1;33m(\u001b[0m\u001b[1;34m'business_id'\u001b[0m\u001b[1;33m,\u001b[0m\u001b[1;34m'is_restaurant'\u001b[0m\u001b[1;33m)\u001b[0m\u001b[1;33m]\u001b[0m\u001b[1;33m,\u001b[0m\u001b[0mon\u001b[0m\u001b[1;33m=\u001b[0m\u001b[1;34m'business_id'\u001b[0m\u001b[1;33m,\u001b[0m\u001b[0mhow\u001b[0m\u001b[1;33m=\u001b[0m\u001b[1;34m'left'\u001b[0m\u001b[1;33m)\u001b[0m\u001b[1;33m\u001b[0m\u001b[1;33m\u001b[0m\u001b[0m\n\u001b[0m",
      "\u001b[1;31mNameError\u001b[0m: name 'rev_df' is not defined"
     ]
    }
   ],
   "source": [
    "# rev_df.join(biz_df[('business_id','is_restaurant')],on='business_id',how='left')"
   ]
  },
  {
   "cell_type": "markdown",
   "metadata": {},
   "source": [
    "## Print Statistics"
   ]
  },
  {
   "cell_type": "code",
   "execution_count": 11,
   "metadata": {},
   "outputs": [],
   "source": [
    "# save_path = r\"C:\\Users\\Willi\\Documents\\NYU\\2020 Spring\\Big Data Science\\Project\\Data_files\\Yelp Data Overview\\\\\"\n",
    "\n",
    "# overview_path = save_path + 'overview_stats.csv'\n",
    "# biz_path = save_path + 'business_stats.csv'\n",
    "# rev_path = save_path + 'review_stats.csv'\n",
    "# use_path = save_path + 'user_stats.csv'\n",
    "\n",
    "# stats_names = [biz_path, rev_path, use_path]\n",
    "\n",
    "# overview.to_csv(overview_path)\n",
    "\n",
    "# for i,stat in enumerate(stats):\n",
    "#     stat.to_csv(stats_names[i])"
   ]
  }
 ],
 "metadata": {
  "kernelspec": {
   "display_name": "Python 3",
   "language": "python",
   "name": "python3"
  },
  "language_info": {
   "codemirror_mode": {
    "name": "ipython",
    "version": 3
   },
   "file_extension": ".py",
   "mimetype": "text/x-python",
   "name": "python",
   "nbconvert_exporter": "python",
   "pygments_lexer": "ipython3",
   "version": "3.7.3"
  }
 },
 "nbformat": 4,
 "nbformat_minor": 4
}
