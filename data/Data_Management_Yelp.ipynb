{
 "cells": [
  {
   "cell_type": "code",
   "execution_count": 1,
   "metadata": {},
   "outputs": [],
   "source": [
    "import pandas as pd\n",
    "import tqdm\n",
    "import matplotlib.pyplot as plt\n",
    "import re"
   ]
  },
  {
   "cell_type": "markdown",
   "metadata": {},
   "source": [
    "## Import Yelp Data"
   ]
  },
  {
   "cell_type": "code",
   "execution_count": 2,
   "metadata": {
    "collapsed": true
   },
   "outputs": [],
   "source": [
    "local = True"
   ]
  },
  {
   "cell_type": "code",
   "execution_count": 3,
   "metadata": {
    "scrolled": true
   },
   "outputs": [
    {
     "name": "stdout",
     "output_type": "stream",
     "text": [
      "business json attributes:  ['address', 'attributes', 'business_id', 'categories', 'city', 'hours', 'is_open', 'latitude', 'longitude', 'name', 'postal_code', 'review_count', 'stars', 'state']\n",
      "review json attributes:  ['business_id', 'cool', 'date', 'funny', 'review_id', 'stars', 'text', 'useful', 'user_id']\n"
     ]
    }
   ],
   "source": [
    "data_path = \"../yelp_dataset/yelp_academic_dataset_\"\n",
    "\n",
    "business_fname = data_path + 'business.json'\n",
    "\n",
    "if local:\n",
    "    review_fname = data_path + 'review_short.json'\n",
    "else:\n",
    "    review_fname = data_path + 'review.json'\n",
    "    \n",
    "biz_df = pd.read_json(business_fname, lines=True)\n",
    "print(\"business json attributes: \", list(biz_df.columns.values))\n",
    "\n",
    "rev_df = pd.read_json(review_fname, lines=True)\n",
    "print(\"review json attributes: \", list(rev_df.columns.values))"
   ]
  },
  {
   "cell_type": "markdown",
   "metadata": {},
   "source": [
    "## Find Number of Empty Entries"
   ]
  },
  {
   "cell_type": "code",
   "execution_count": 4,
   "metadata": {},
   "outputs": [
    {
     "name": "stdout",
     "output_type": "stream",
     "text": [
      "business empty entries:  address             0\n",
      "attributes      29045\n",
      "business_id         0\n",
      "categories        524\n",
      "city                0\n",
      "hours           44843\n",
      "is_open             0\n",
      "latitude            0\n",
      "longitude           0\n",
      "name                0\n",
      "postal_code         0\n",
      "review_count        0\n",
      "stars               0\n",
      "state               0\n",
      "dtype: int64\n",
      "review empty entries:  business_id    0\n",
      "cool           0\n",
      "date           0\n",
      "funny          0\n",
      "review_id      0\n",
      "stars          0\n",
      "text           0\n",
      "useful         0\n",
      "user_id        0\n",
      "dtype: int64\n"
     ]
    }
   ],
   "source": [
    "print(\"business empty entries: \", biz_df.isnull().sum(axis=0))\n",
    "print(\"review empty entries: \", rev_df.isnull().sum(axis=0))\n",
    "\n",
    "# print(\"checkin empty entries: \", ci_df.isna().sum(axis=0))\n",
    "# print(\"photo empty entries: \", ph_df.isna().sum(axis=0))\n",
    "# print(\"tip empty entries: \", tip_df.isna().sum(axis=0))\n",
    "# print(\"user empty entries: \", use_df.isna().sum(axis=0))"
   ]
  },
  {
   "cell_type": "markdown",
   "metadata": {},
   "source": [
    "## Sizes"
   ]
  },
  {
   "cell_type": "code",
   "execution_count": 5,
   "metadata": {},
   "outputs": [
    {
     "name": "stdout",
     "output_type": "stream",
     "text": [
      "business size:  (209393, 14)\n",
      "review size:  (100, 9)\n"
     ]
    }
   ],
   "source": [
    "print(\"business size: \", biz_df.shape)\n",
    "print(\"review size: \", rev_df.shape)\n",
    "\n",
    "# print(\"checkin size: \", ci_df.shape)\n",
    "# print(\"photo size: \", ph_df.shape)\n",
    "\n",
    "# print(\"tip size: \", tip_df.shape)\n",
    "# print(\"user size: \", use_df.shape)"
   ]
  },
  {
   "cell_type": "markdown",
   "metadata": {},
   "source": [
    "### Join Review and Business"
   ]
  },
  {
   "cell_type": "code",
   "execution_count": 6,
   "metadata": {},
   "outputs": [],
   "source": [
    "review_business_join_df = rev_df.join(biz_df.set_index('business_id'), on = 'business_id', lsuffix = '_review', rsuffix = \"_biz\")\n",
    "review_business_join_df.to_csv(\"./output/review_business_join.csv\", index = False)"
   ]
  },
  {
   "cell_type": "code",
   "execution_count": 7,
   "metadata": {
    "scrolled": false
   },
   "outputs": [
    {
     "data": {
      "text/plain": [
       "array(['business_id', 'cool', 'date', 'funny', 'review_id', 'stars_review',\n",
       "       'text', 'useful', 'user_id', 'address', 'attributes', 'categories',\n",
       "       'city', 'hours', 'is_open', 'latitude', 'longitude', 'name',\n",
       "       'postal_code', 'review_count', 'stars_biz', 'state'], dtype=object)"
      ]
     },
     "execution_count": 7,
     "metadata": {},
     "output_type": "execute_result"
    }
   ],
   "source": [
    "review_business_join_df.columns.values"
   ]
  },
  {
   "cell_type": "code",
   "execution_count": 8,
   "metadata": {},
   "outputs": [],
   "source": [
    "review_business_restaurant_df = review_business_join_df[review_business_join_df['categories'].str.contains(\"Restaurant\", flags=re.IGNORECASE, regex = True)]\n",
    "review_business_restaurant_df.to_csv(\"./output/review_business_restaurant.csv\", index = False)"
   ]
  },
  {
   "cell_type": "code",
   "execution_count": 9,
   "metadata": {},
   "outputs": [],
   "source": [
    "key_attributes = [\"review_id\", \"business_id\", \"date\", \"categories\", \"name\", \"postal_code\", \"state\", \"text\", \"user_id\", \"stars_review\", \"stars_biz\"]\n",
    "review_business_restaurant_key_attr_df = review_business_restaurant_df.filter(key_attributes)\n",
    "review_business_restaurant_key_attr_df.to_csv(\"./output/review_business_restaurant_key_attributes.csv\", index = False)"
   ]
  }
 ],
 "metadata": {
  "kernelspec": {
   "display_name": "Python 3",
   "language": "python",
   "name": "python3"
  },
  "language_info": {
   "codemirror_mode": {
    "name": "ipython",
    "version": 3
   },
   "file_extension": ".py",
   "mimetype": "text/x-python",
   "name": "python",
   "nbconvert_exporter": "python",
   "pygments_lexer": "ipython3",
   "version": "3.7.3"
  }
 },
 "nbformat": 4,
 "nbformat_minor": 4
}
