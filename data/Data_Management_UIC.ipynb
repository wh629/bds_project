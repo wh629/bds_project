{
 "cells": [
  {
   "cell_type": "code",
   "execution_count": 42,
   "metadata": {},
   "outputs": [],
   "source": [
    "import pandas as pd\n",
    "import tqdm\n",
    "import sqlite3 as sq\n",
    "import matplotlib.pyplot as plt"
   ]
  },
  {
   "cell_type": "markdown",
   "metadata": {},
   "source": [
    "## Import UIC Data"
   ]
  },
  {
   "cell_type": "code",
   "execution_count": 43,
   "metadata": {},
   "outputs": [],
   "source": [
    "path = r\"C:\\Users\\Willi\\Documents\\NYU\\2020 Spring\\Big Data Science\\Project\\bds_project\\Data\"\n",
    "data_path = path+r\"\\yelp_dataset_UIC\"\n",
    "\n",
    "res_name = data_path + '\\yelpResData.db'\n",
    "hot_name = data_path + '\\yelpHotelData.db'\n",
    "\n",
    "res_conn = sq.connect(res_name)\n",
    "hot_conn = sq.connect(hot_name)"
   ]
  },
  {
   "cell_type": "code",
   "execution_count": 44,
   "metadata": {},
   "outputs": [
    {
     "name": "stdout",
     "output_type": "stream",
     "text": [
      "review\n",
      "restaurant\n",
      "reviewer\n",
      "\n",
      "review\n",
      "sqlite_stat1\n",
      "sqlite_stat2\n",
      "reviewer\n",
      "hotel\n"
     ]
    }
   ],
   "source": [
    "res_tables = res_conn.execute(\"SELECT name FROM sqlite_master WHERE type='table';\")\n",
    "for i,name in enumerate(res_tables):\n",
    "    print(name[0])\n",
    "    \n",
    "print(\"\")\n",
    "\n",
    "hot_tables = hot_conn.execute(\"SELECT name FROM sqlite_master WHERE type='table';\")\n",
    "for name in hot_tables:\n",
    "    print(name[0])"
   ]
  },
  {
   "cell_type": "code",
   "execution_count": null,
   "metadata": {},
   "outputs": [],
   "source": [
    "sql_q = lambda x: \"SELECT * FROM \" + x + \";\"\n",
    "res_conn.text_factory = lambda b: b.decode(errors = 'ignore')\n",
    "hot_conn.text_factory = lambda b: b.decode(errors = 'ignore')\n",
    "\n",
    "res_rev_df = pd.read_sql(sql_q('review'),res_conn)\n",
    "res_rest_df = pd.read_sql(sql_q('restaurant'),res_conn)\n",
    "res_rever_df = pd.read_sql(sql_q('reviewer'),res_conn)\n",
    "\n",
    "hot_rev_df = pd.read_sql(sql_q('review'),hot_conn)\n",
    "hot_sqlite1_df = pd.read_sql(sql_q('sqlite_stat1'),hot_conn)\n",
    "hot_sqlite2_df = pd.read_sql(sql_q('sqlite_stat2'),hot_conn)\n",
    "hot_rever_df = pd.read_sql(sql_q('reviewer'),hot_conn)\n",
    "hot_hot_df = pd.read_sql(sql_q('hotel'),hot_conn)"
   ]
  },
  {
   "cell_type": "markdown",
   "metadata": {},
   "source": [
    "## Table Columns"
   ]
  },
  {
   "cell_type": "code",
   "execution_count": null,
   "metadata": {},
   "outputs": [],
   "source": [
    "print(\"restaurant reviews: \",list(res_rev_df.columns.values))\n",
    "print(\"restaurant restaurants: \",list(res_rest_df.columns.values))\n",
    "print(\"restaurant reviewers: \",list(res_rever_df.columns.values))\n",
    "print(\"\")\n",
    "print(\"hotel reviews: \",list(hot_rev_df.columns.values))\n",
    "print(\"hotel sqlite_stat1: \",list(hot_sqlite1_df.columns.values))\n",
    "print(\"hotel sqlite_stat2: \",list(hot_sqlite2_df.columns.values))\n",
    "print(\"hotel reviewers: \",list(hot_rever_df.columns.values))\n",
    "print(\"hotel hotel: \",list(hot_hot_df.columns.values))"
   ]
  },
  {
   "cell_type": "code",
   "execution_count": null,
   "metadata": {},
   "outputs": [],
   "source": [
    "# Find unique values of flagged\n",
    "res_rev_df.loc[:,'flagged'].unique()"
   ]
  },
  {
   "cell_type": "code",
   "execution_count": null,
   "metadata": {},
   "outputs": [],
   "source": [
    "print(len(res_rev_df['reviewID'].unique()))"
   ]
  },
  {
   "cell_type": "code",
   "execution_count": null,
   "metadata": {},
   "outputs": [],
   "source": [
    "concat = pd.concat([res_rev_df, hot_rev_df])\n",
    "print('Total number is {}.'.format(concat.shape[0]))\n",
    "print('Unique number is {}.'.format(len(concat['reviewID'].unique())))\n",
    "print(concat.shape[0]-len(concat['reviewID'].unique()))"
   ]
  },
  {
   "cell_type": "code",
   "execution_count": null,
   "metadata": {},
   "outputs": [],
   "source": [
    "# First relabel restaurantID and hotelID to businessID\n",
    "res_rev_df.rename({'restaurantID':'businessID'},axis=1, inplace=True)\n",
    "hot_rev_df.rename({'hotelID':'businessID'},axis=1, inplace=True)\n",
    "\n",
    "print(list(res_rev_df.columns.values))\n",
    "print(list(hot_rev_df.columns.values))\n",
    "\n",
    "# Remove duplicates\n",
    "hotel_keep = ~hot_rev_df['reviewID'].isin(res_rev_df['reviewID'])\n",
    "\n",
    "print(sum(~hotel_keep))\n",
    "\n",
    "hotel_kept = hot_rev_df.loc[hotel_keep,:].copy()\n",
    "\n",
    "print(sum(hotel_kept['reviewID'].isin(res_rev_df['reviewID'])))\n",
    "\n",
    "# Change Y and YR to True and N and NR to False\n",
    "res_rev_df.loc[res_rev_df['flagged']=='Y',:]=True\n",
    "res_rev_df.loc[res_rev_df['flagged']=='YR',:]=True\n",
    "res_rev_df.loc[res_rev_df['flagged']=='N',:]=False\n",
    "res_rev_df.loc[res_rev_df['flagged']=='NR',:]=False\n",
    "\n",
    "hotel_kept.loc[hotel_kept['flagged']=='Y',:]=True\n",
    "hotel_kept.loc[hotel_kept['flagged']=='YR',:]=True\n",
    "hotel_kept.loc[hotel_kept['flagged']=='N',:]=False\n",
    "hotel_kept.loc[hotel_kept['flagged']=='NR',:]=False\n",
    "\n",
    "combined = pd.concat([res_rev_df,hotel_kept]).reset_index(drop=True)\n",
    "\n",
    "print(res_rev_df['flagged'].unique())\n",
    "print(combined['flagged'].unique())\n",
    "\n",
    "res_rev_df.to_csv(path+r'\\Cleaned\\from_restaurants_reviews_UIC.csv')\n",
    "combined.to_csv(path+r'\\Cleaned\\reviews_UIC.csv')"
   ]
  },
  {
   "cell_type": "code",
   "execution_count": null,
   "metadata": {},
   "outputs": [],
   "source": [
    "res_rev_df['has_empty'] = res_rev_df.isna().sum(axis=1)>0"
   ]
  },
  {
   "cell_type": "code",
   "execution_count": null,
   "metadata": {},
   "outputs": [],
   "source": [
    "print(res_rev_df.loc[res_rev_df['has_empty']==False,'has_empty'].shape)\n",
    "\n",
    "print(res_rev_df.shape)"
   ]
  },
  {
   "cell_type": "code",
   "execution_count": 37,
   "metadata": {},
   "outputs": [
    {
     "name": "stdout",
     "output_type": "stream",
     "text": [
      "N #:  58716\n",
      "N %:  0.07446817955257708\n",
      "\n",
      "Y #:  8303\n",
      "Y %:  0.0105305077802481\n",
      "\n",
      "NR #:  402774\n",
      "NR %:  0.5108291871229252\n",
      "\n",
      "YR #:  318678\n",
      "YR %:  0.4041721255442496\n"
     ]
    }
   ],
   "source": [
    "# Percent flagged\n",
    "total = res_rev_df.shape[0]\n",
    "\n",
    "print(\"N #: \",res_rev_df.loc[res_rev_df.loc[:,'flagged']=='N',:].shape[0])\n",
    "print(\"N %: \",res_rev_df.loc[res_rev_df.loc[:,'flagged']=='N',:].shape[0]/total)\n",
    "print(\"\")\n",
    "print(\"Y #: \",res_rev_df.loc[res_rev_df.loc[:,'flagged']=='Y',:].shape[0])\n",
    "print(\"Y %: \",res_rev_df.loc[res_rev_df.loc[:,'flagged']=='Y',:].shape[0]/total)\n",
    "print(\"\")\n",
    "print(\"NR #: \",res_rev_df.loc[res_rev_df.loc[:,'flagged']=='NR',:].shape[0])\n",
    "print(\"NR %: \",res_rev_df.loc[res_rev_df.loc[:,'flagged']=='NR',:].shape[0]/total)\n",
    "print(\"\")\n",
    "print(\"YR #: \",res_rev_df.loc[res_rev_df.loc[:,'flagged']=='YR',:].shape[0])\n",
    "print(\"YR %: \",res_rev_df.loc[res_rev_df.loc[:,'flagged']=='YR',:].shape[0]/total)"
   ]
  }
 ],
 "metadata": {
  "kernelspec": {
   "display_name": "Python 3",
   "language": "python",
   "name": "python3"
  },
  "language_info": {
   "codemirror_mode": {
    "name": "ipython",
    "version": 3
   },
   "file_extension": ".py",
   "mimetype": "text/x-python",
   "name": "python",
   "nbconvert_exporter": "python",
   "pygments_lexer": "ipython3",
   "version": "3.7.3"
  }
 },
 "nbformat": 4,
 "nbformat_minor": 2
}
