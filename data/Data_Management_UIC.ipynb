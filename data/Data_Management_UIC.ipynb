{
 "cells": [
  {
   "cell_type": "code",
   "execution_count": 1,
   "metadata": {},
   "outputs": [],
   "source": [
    "import pandas as pd\n",
    "import tqdm\n",
    "import sqlite3 as sq\n",
    "import matplotlib.pyplot as plt"
   ]
  },
  {
   "cell_type": "markdown",
   "metadata": {},
   "source": [
    "## Import UIC Data"
   ]
  },
  {
   "cell_type": "code",
   "execution_count": 16,
   "metadata": {},
   "outputs": [],
   "source": [
    "path = \"../../dataset/\"\n",
    "data_path = path+ \"/yelp_dataset_UIC\"\n",
    "\n",
    "res_name = data_path + '/yelpResData.db'\n",
    "hot_name = data_path + '/yelpHotelData.db'\n",
    "\n",
    "res_conn = sq.connect(res_name)\n",
    "hot_conn = sq.connect(hot_name)"
   ]
  },
  {
   "cell_type": "code",
   "execution_count": 3,
   "metadata": {},
   "outputs": [
    {
     "name": "stdout",
     "output_type": "stream",
     "text": [
      "review\n",
      "restaurant\n",
      "reviewer\n",
      "\n",
      "review\n",
      "sqlite_stat1\n",
      "sqlite_stat2\n",
      "reviewer\n",
      "hotel\n"
     ]
    }
   ],
   "source": [
    "res_tables = res_conn.execute(\"SELECT name FROM sqlite_master WHERE type='table';\")\n",
    "for i,name in enumerate(res_tables):\n",
    "    print(name[0])\n",
    "    \n",
    "print(\"\")\n",
    "\n",
    "hot_tables = hot_conn.execute(\"SELECT name FROM sqlite_master WHERE type='table';\")\n",
    "for name in hot_tables:\n",
    "    print(name[0])"
   ]
  },
  {
   "cell_type": "code",
   "execution_count": 33,
   "metadata": {},
   "outputs": [],
   "source": [
    "sql_q = lambda x: \"SELECT * FROM \" + x + \";\"\n",
    "res_conn.text_factory = lambda b: b.decode(errors = 'ignore')\n",
    "hot_conn.text_factory = lambda b: b.decode(errors = 'ignore')\n",
    "\n",
    "res_rev_df = pd.read_sql(sql_q('review'),res_conn)\n",
    "res_rest_df = pd.read_sql(sql_q('restaurant'),res_conn)\n",
    "res_rever_df = pd.read_sql(sql_q('reviewer'),res_conn)\n",
    "\n",
    "hot_rev_df = pd.read_sql(sql_q('review'),hot_conn)\n",
    "hot_sqlite1_df = pd.read_sql(sql_q('sqlite_stat1'),hot_conn)\n",
    "hot_sqlite2_df = pd.read_sql(sql_q('sqlite_stat2'),hot_conn)\n",
    "hot_rever_df = pd.read_sql(sql_q('reviewer'),hot_conn)\n",
    "hot_hot_df = pd.read_sql(sql_q('hotel'),hot_conn)"
   ]
  },
  {
   "cell_type": "markdown",
   "metadata": {},
   "source": [
    "## Table Columns"
   ]
  },
  {
   "cell_type": "code",
   "execution_count": 5,
   "metadata": {},
   "outputs": [
    {
     "name": "stdout",
     "output_type": "stream",
     "text": [
      "restaurant reviews:  ['date', 'reviewID', 'reviewerID', 'reviewContent', 'rating', 'usefulCount', 'coolCount', 'funnyCount', 'flagged', 'restaurantID']\n",
      "restaurant restaurants:  ['restaurantID', 'name', 'location', 'reviewCount', 'rating', 'categories', 'address', 'Hours', 'GoodforKids', 'AcceptsCreditCards', 'Parking', 'Attire', 'GoodforGroups', 'PriceRange', 'TakesReservations', 'Delivery', 'Takeout', 'WaiterService', 'OutdoorSeating', 'WiFi', 'GoodFor', 'Alcohol', 'NoiseLevel', 'Ambience', 'HasTV', 'Caters', 'WheelchairAccessible', 'webSite', 'phoneNumber', 'filReviewCount']\n",
      "restaurant reviewers:  ['reviewerID', 'name', 'location', 'yelpJoinDate', 'friendCount', 'reviewCount', 'firstCount', 'usefulCount', 'coolCount', 'funnyCount', 'complimentCount', 'tipCount', 'fanCount']\n",
      "\n",
      "hotel reviews:  ['date', 'reviewID', 'reviewerID', 'reviewContent', 'rating', 'usefulCount', 'coolCount', 'funnyCount', 'flagged', 'hotelID']\n",
      "hotel sqlite_stat1:  ['tbl', 'idx', 'stat']\n",
      "hotel sqlite_stat2:  ['tbl', 'idx', 'sampleno', 'sample']\n",
      "hotel reviewers:  ['reviewerID', 'name', 'location', 'yelpJoinDate', 'friendCount', 'reviewCount', 'firstCount', 'usefulCount', 'coolCount', 'funnyCount', 'complimentCount', 'tipCount', 'fanCount']\n",
      "hotel hotel:  ['hotelID', 'name', 'location', 'reviewCount', 'rating', 'categories', 'address', 'AcceptsCreditCards', 'PriceRange', 'WiFi', 'webSite', 'phoneNumber', 'filReviewCount']\n"
     ]
    }
   ],
   "source": [
    "print(\"restaurant reviews: \",list(res_rev_df.columns.values))\n",
    "print(\"restaurant restaurants: \",list(res_rest_df.columns.values))\n",
    "print(\"restaurant reviewers: \",list(res_rever_df.columns.values))\n",
    "print(\"\")\n",
    "print(\"hotel reviews: \",list(hot_rev_df.columns.values))\n",
    "print(\"hotel sqlite_stat1: \",list(hot_sqlite1_df.columns.values))\n",
    "print(\"hotel sqlite_stat2: \",list(hot_sqlite2_df.columns.values))\n",
    "print(\"hotel reviewers: \",list(hot_rever_df.columns.values))\n",
    "print(\"hotel hotel: \",list(hot_hot_df.columns.values))"
   ]
  },
  {
   "cell_type": "code",
   "execution_count": 6,
   "metadata": {},
   "outputs": [
    {
     "data": {
      "text/plain": [
       "array(['N', 'Y', 'NR', 'YR'], dtype=object)"
      ]
     },
     "execution_count": 6,
     "metadata": {},
     "output_type": "execute_result"
    }
   ],
   "source": [
    "# Find unique values of flagged\n",
    "res_rev_df.loc[:,'flagged'].unique()"
   ]
  },
  {
   "cell_type": "code",
   "execution_count": 7,
   "metadata": {},
   "outputs": [
    {
     "name": "stdout",
     "output_type": "stream",
     "text": [
      "788471\n"
     ]
    }
   ],
   "source": [
    "print(len(res_rev_df['reviewID'].unique()))"
   ]
  },
  {
   "cell_type": "code",
   "execution_count": 8,
   "metadata": {},
   "outputs": [
    {
     "name": "stderr",
     "output_type": "stream",
     "text": [
      "/Library/Python/3.7/site-packages/ipykernel_launcher.py:1: FutureWarning: Sorting because non-concatenation axis is not aligned. A future version\n",
      "of pandas will change to not sort by default.\n",
      "\n",
      "To accept the future behavior, pass 'sort=False'.\n",
      "\n",
      "To retain the current behavior and silence the warning, pass 'sort=True'.\n",
      "\n",
      "  \"\"\"Entry point for launching an IPython kernel.\n"
     ]
    },
    {
     "name": "stdout",
     "output_type": "stream",
     "text": [
      "Total number is 1476800.\n",
      "Unique number is 1295536.\n",
      "181264\n"
     ]
    }
   ],
   "source": [
    "concat = pd.concat([res_rev_df, hot_rev_df])\n",
    "print('Total number is {}.'.format(concat.shape[0]))\n",
    "print('Unique number is {}.'.format(len(concat['reviewID'].unique())))\n",
    "print(concat.shape[0]-len(concat['reviewID'].unique()))"
   ]
  },
  {
   "cell_type": "code",
   "execution_count": 34,
   "metadata": {},
   "outputs": [
    {
     "name": "stdout",
     "output_type": "stream",
     "text": [
      "['date', 'reviewID', 'reviewerID', 'reviewContent', 'rating', 'usefulCount', 'coolCount', 'funnyCount', 'flagged', 'businessID']\n",
      "['date', 'reviewID', 'reviewerID', 'reviewContent', 'rating', 'usefulCount', 'coolCount', 'funnyCount', 'flagged', 'businessID']\n",
      "181264\n",
      "0\n",
      "[False  True]\n",
      "[False  True]\n"
     ]
    }
   ],
   "source": [
    "# First relabel restaurantID and hotelID to businessID\n",
    "res_rev_df.rename({'restaurantID':'businessID'},axis=1, inplace=True)\n",
    "hot_rev_df.rename({'hotelID':'businessID'},axis=1, inplace=True)\n",
    "\n",
    "print(list(res_rev_df.columns.values))\n",
    "print(list(hot_rev_df.columns.values))\n",
    "\n",
    "# Remove duplicates\n",
    "hotel_keep = ~hot_rev_df['reviewID'].isin(res_rev_df['reviewID'])\n",
    "\n",
    "print(sum(~hotel_keep))\n",
    "\n",
    "hotel_kept = hot_rev_df.loc[hotel_keep,:].copy()\n",
    "\n",
    "print(sum(hotel_kept['reviewID'].isin(res_rev_df['reviewID'])))\n",
    "\n",
    "# Change Y and YR to True and N and NR to False\n",
    "res_rev_df.loc[res_rev_df['flagged']=='Y',  'flagged'] = True\n",
    "res_rev_df.loc[res_rev_df['flagged']=='YR', 'flagged'] = True\n",
    "res_rev_df.loc[res_rev_df['flagged']=='N',  'flagged'] = False\n",
    "res_rev_df.loc[res_rev_df['flagged']=='NR',  'flagged'] = False\n",
    "\n",
    "hotel_kept.loc[hotel_kept['flagged']=='Y',  'flagged'] = True\n",
    "hotel_kept.loc[hotel_kept['flagged']=='YR', 'flagged'] = True\n",
    "hotel_kept.loc[hotel_kept['flagged']=='N',  'flagged'] = False\n",
    "hotel_kept.loc[hotel_kept['flagged']=='NR',  'flagged'] = False\n",
    "\n",
    "combined = pd.concat([res_rev_df,hotel_kept]).reset_index(drop=True)\n",
    "\n",
    "print(res_rev_df['flagged'].unique())\n",
    "print(combined['flagged'].unique())\n",
    "\n",
    "res_rev_df.to_csv(path+ '/clean_from_restaurants_reviews_UIC.csv')\n",
    "hotel_kept.to_csv(path+ '/clean_from_hotel_reviews_UIC.csv')\n",
    "combined.to_csv(path+ '/clean_reviews_UIC.csv')"
   ]
  },
  {
   "cell_type": "code",
   "execution_count": 35,
   "metadata": {},
   "outputs": [
    {
     "data": {
      "text/html": [
       "<div>\n",
       "<style scoped>\n",
       "    .dataframe tbody tr th:only-of-type {\n",
       "        vertical-align: middle;\n",
       "    }\n",
       "\n",
       "    .dataframe tbody tr th {\n",
       "        vertical-align: top;\n",
       "    }\n",
       "\n",
       "    .dataframe thead th {\n",
       "        text-align: right;\n",
       "    }\n",
       "</style>\n",
       "<table border=\"1\" class=\"dataframe\">\n",
       "  <thead>\n",
       "    <tr style=\"text-align: right;\">\n",
       "      <th></th>\n",
       "      <th>date</th>\n",
       "      <th>reviewID</th>\n",
       "      <th>reviewerID</th>\n",
       "      <th>reviewContent</th>\n",
       "      <th>rating</th>\n",
       "      <th>usefulCount</th>\n",
       "      <th>coolCount</th>\n",
       "      <th>funnyCount</th>\n",
       "      <th>flagged</th>\n",
       "      <th>businessID</th>\n",
       "    </tr>\n",
       "  </thead>\n",
       "  <tbody>\n",
       "    <tr>\n",
       "      <th>0</th>\n",
       "      <td>9/22/2012</td>\n",
       "      <td>GtwU21YOQn-wf4vWRUIx6w</td>\n",
       "      <td>bNYesZ944s6IJVowOnB0iA</td>\n",
       "      <td>Unlike Next, which we'd eaten at the previous ...</td>\n",
       "      <td>5</td>\n",
       "      <td>0</td>\n",
       "      <td>0</td>\n",
       "      <td>0</td>\n",
       "      <td>False</td>\n",
       "      <td>pbEiXam9YJL3neCYHGwLUA</td>\n",
       "    </tr>\n",
       "    <tr>\n",
       "      <th>1</th>\n",
       "      <td>9/22/2012</td>\n",
       "      <td>0LpVTc3</td>\n",
       "      <td>TRKxLC3y-ZvP45e5iilMtw</td>\n",
       "      <td>Probably one of the best meals I've had ever. ...</td>\n",
       "      <td>5</td>\n",
       "      <td>0</td>\n",
       "      <td>0</td>\n",
       "      <td>0</td>\n",
       "      <td>False</td>\n",
       "      <td>pbEiXam9YJL3neCYHGwLUA</td>\n",
       "    </tr>\n",
       "    <tr>\n",
       "      <th>2</th>\n",
       "      <td>9/19/2012</td>\n",
       "      <td>tljtLzf68Fkwf</td>\n",
       "      <td>0EMm8umAqXZzyhxNpL4M9g</td>\n",
       "      <td>Service was impeccable. Experience and present...</td>\n",
       "      <td>3</td>\n",
       "      <td>2</td>\n",
       "      <td>0</td>\n",
       "      <td>0</td>\n",
       "      <td>False</td>\n",
       "      <td>pbEiXam9YJL3neCYHGwLUA</td>\n",
       "    </tr>\n",
       "    <tr>\n",
       "      <th>3</th>\n",
       "      <td>9/6/2012</td>\n",
       "      <td>iSN</td>\n",
       "      <td>DlwexC7z88ymAzu45skODw</td>\n",
       "      <td>The problem with places like this, given the e...</td>\n",
       "      <td>3</td>\n",
       "      <td>8</td>\n",
       "      <td>0</td>\n",
       "      <td>3</td>\n",
       "      <td>False</td>\n",
       "      <td>pbEiXam9YJL3neCYHGwLUA</td>\n",
       "    </tr>\n",
       "    <tr>\n",
       "      <th>4</th>\n",
       "      <td>9/9/2012</td>\n",
       "      <td>Jmwrh7</td>\n",
       "      <td>kW2dk1CWihmh3g7k9N2G8A</td>\n",
       "      <td>I have no idea how to write my review - dining...</td>\n",
       "      <td>5</td>\n",
       "      <td>1</td>\n",
       "      <td>2</td>\n",
       "      <td>0</td>\n",
       "      <td>False</td>\n",
       "      <td>pbEiXam9YJL3neCYHGwLUA</td>\n",
       "    </tr>\n",
       "  </tbody>\n",
       "</table>\n",
       "</div>"
      ],
      "text/plain": [
       "        date                reviewID              reviewerID  \\\n",
       "0  9/22/2012  GtwU21YOQn-wf4vWRUIx6w  bNYesZ944s6IJVowOnB0iA   \n",
       "1  9/22/2012                 0LpVTc3  TRKxLC3y-ZvP45e5iilMtw   \n",
       "2  9/19/2012           tljtLzf68Fkwf  0EMm8umAqXZzyhxNpL4M9g   \n",
       "3   9/6/2012                     iSN  DlwexC7z88ymAzu45skODw   \n",
       "4   9/9/2012                  Jmwrh7  kW2dk1CWihmh3g7k9N2G8A   \n",
       "\n",
       "                                       reviewContent  rating  usefulCount  \\\n",
       "0  Unlike Next, which we'd eaten at the previous ...       5            0   \n",
       "1  Probably one of the best meals I've had ever. ...       5            0   \n",
       "2  Service was impeccable. Experience and present...       3            2   \n",
       "3  The problem with places like this, given the e...       3            8   \n",
       "4  I have no idea how to write my review - dining...       5            1   \n",
       "\n",
       "   coolCount  funnyCount  flagged              businessID  \n",
       "0          0           0    False  pbEiXam9YJL3neCYHGwLUA  \n",
       "1          0           0    False  pbEiXam9YJL3neCYHGwLUA  \n",
       "2          0           0    False  pbEiXam9YJL3neCYHGwLUA  \n",
       "3          0           3    False  pbEiXam9YJL3neCYHGwLUA  \n",
       "4          2           0    False  pbEiXam9YJL3neCYHGwLUA  "
      ]
     },
     "execution_count": 35,
     "metadata": {},
     "output_type": "execute_result"
    }
   ],
   "source": [
    "combined.head()"
   ]
  },
  {
   "cell_type": "code",
   "execution_count": 36,
   "metadata": {},
   "outputs": [],
   "source": [
    "res_rev_df['has_empty'] = res_rev_df.isna().sum(axis=1)>0"
   ]
  },
  {
   "cell_type": "code",
   "execution_count": 41,
   "metadata": {},
   "outputs": [
    {
     "name": "stdout",
     "output_type": "stream",
     "text": [
      "Index(['coolCount', 'date', 'flagged', 'funnyCount', 'hotelID', 'rating',\n",
      "       'restaurantID', 'reviewContent', 'reviewID', 'reviewerID',\n",
      "       'usefulCount'],\n",
      "      dtype='object')\n"
     ]
    }
   ],
   "source": [
    "print(concat.columns)"
   ]
  },
  {
   "cell_type": "code",
   "execution_count": 42,
   "metadata": {},
   "outputs": [
    {
     "name": "stdout",
     "output_type": "stream",
     "text": [
      "N #:  0\n",
      "N %:  0.0\n",
      "\n",
      "Y #:  0\n",
      "Y %:  0.0\n",
      "\n",
      "NR #:  0\n",
      "NR %:  0.0\n",
      "\n",
      "YR #:  0\n",
      "YR %:  0.0\n"
     ]
    }
   ],
   "source": [
    "# Percent flagged\n",
    "total = res_rev_df.shape[0]\n",
    "\n",
    "print(\"N #: \",res_rev_df.loc[res_rev_df.loc[:,'flagged']=='N',:].shape[0])\n",
    "print(\"N %: \",res_rev_df.loc[res_rev_df.loc[:,'flagged']=='N',:].shape[0]/total)\n",
    "print(\"\")\n",
    "print(\"Y #: \",res_rev_df.loc[res_rev_df.loc[:,'flagged']=='Y',:].shape[0])\n",
    "print(\"Y %: \",res_rev_df.loc[res_rev_df.loc[:,'flagged']=='Y',:].shape[0]/total)\n",
    "print(\"\")\n",
    "print(\"NR #: \",res_rev_df.loc[res_rev_df.loc[:,'flagged']=='NR',:].shape[0])\n",
    "print(\"NR %: \",res_rev_df.loc[res_rev_df.loc[:,'flagged']=='NR',:].shape[0]/total)\n",
    "print(\"\")\n",
    "print(\"YR #: \",res_rev_df.loc[res_rev_df.loc[:,'flagged']=='YR',:].shape[0])\n",
    "print(\"YR %: \",res_rev_df.loc[res_rev_df.loc[:,'flagged']=='YR',:].shape[0]/total)"
   ]
  },
  {
   "cell_type": "code",
   "execution_count": null,
   "metadata": {},
   "outputs": [],
   "source": []
  }
 ],
 "metadata": {
  "kernelspec": {
   "display_name": "Python 3",
   "language": "python",
   "name": "python3"
  },
  "language_info": {
   "codemirror_mode": {
    "name": "ipython",
    "version": 3
   },
   "file_extension": ".py",
   "mimetype": "text/x-python",
   "name": "python",
   "nbconvert_exporter": "python",
   "pygments_lexer": "ipython3",
   "version": "3.7.3"
  }
 },
 "nbformat": 4,
 "nbformat_minor": 2
}
